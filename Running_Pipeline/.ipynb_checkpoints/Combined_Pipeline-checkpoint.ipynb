{
 "cells": [
  {
   "cell_type": "code",
   "execution_count": 1,
   "id": "5ddadcda",
   "metadata": {},
   "outputs": [
    {
     "name": "stderr",
     "output_type": "stream",
     "text": [
      "Intel(R) Extension for Scikit-learn* enabled (https://github.com/intel/scikit-learn-intelex)\n"
     ]
    }
   ],
   "source": [
    "import Extract_Labels as el\n",
    "import Nicole_Functions as nf\n",
    "import Apply_Mask as am\n",
    "import Remove_Outliers as ro\n",
    "import Convert_Dictionary_to_Vector as cd\n",
    "import Patient_Pixel_Indices as pp\n",
    "import Make_Target_Array as mt\n",
    "import Concatenate_Patients as cp\n",
    "import SVM_Train as st\n",
    "\n",
    "import numpy as np"
   ]
  },
  {
   "cell_type": "code",
   "execution_count": 3,
   "id": "4872a6f6",
   "metadata": {},
   "outputs": [
    {
     "name": "stdout",
     "output_type": "stream",
     "text": [
      "Filepath: /Users/byronpetselis/Desktop/All_Data_Labels.xlsx\n",
      "Detected Column Names (Datasets): Dallas, Qatar\n",
      "Choose Dataset: Qatar\n",
      "Positive Class: SCC\n",
      "Negative Class: Benign\n",
      "Enter Subclasses of SCC: SCC\n",
      "Enter Subclasses of SCC: High Grade Dysplasia\n",
      "Enter Subclasses of SCC: Moderate Dysplasia\n",
      "Enter Subclasses of SCC: Mild Dysplasia\n",
      "Enter Subclasses of SCC: \n",
      "Enter Subclasses of Benign: Benign\n",
      "Enter Subclasses of Benign: \n",
      "{'SCC': 'positive_data_labels', 'High Grade Dysplasia': 'positive_data_labels', 'Moderate Dysplasia': 'positive_data_labels', 'Mild Dysplasia': 'positive_data_labels', 'Benign': 'negative_data_labels'}\n",
      "Positive Patients: ['Q3', 'Q8', 'Q12', 'Q15', 'Q17', 'Q18', 'Q19', 'Q22', 'Q23', 'Q24', 'Q25', 'Q26', 'Q28', 'Q29', 'Q30', 'Q31', 'Q32', 'Q33', 'Q36', 'Q39', 'Q41', 'Q44', 'Q45', 'Q47', 'Q48', 'Q51', 'Q53', 'Q55', 'Q57', 'Q58', 'Q60', 'Q61', 'Q64', 'Q68']\n",
      "Negative Patients: ['Q1', 'Q2', 'Q4', 'Q5', 'Q6', 'Q7', 'Q9', 'Q10', 'Q11', 'Q13', 'Q14', 'Q16', 'Q20', 'Q21', 'Q27', 'Q34', 'Q35', 'Q37', 'Q38', 'Q40', 'Q42', 'Q43', 'Q46', 'Q49', 'Q50', 'Q52', 'Q54', 'Q56', 'Q59', 'Q62', 'Q63', 'Q65', 'Q66', 'Q67', 'Q69']\n"
     ]
    }
   ],
   "source": [
    "# 1: Filepath: '/Users/byronpetselis/Desktop/All_Data_Labels.xlsx'\n",
    "# 2: Choose Dataset: Qatar\n",
    "# 3: Positive Class: SCC\n",
    "# 4: Negative Class: Benign\n",
    "# 5: Enter Subclasses of SCC: SCC, High Grade Dysplasia, Moderate Dysplasia, Mild Dysplasia\n",
    "# 6: Enter Subclasses of Benign: Benign\n",
    "pos_patients, neg_patients = el.extract_labels()"
   ]
  },
  {
   "cell_type": "code",
   "execution_count": 4,
   "id": "5605b132",
   "metadata": {},
   "outputs": [
    {
     "name": "stdout",
     "output_type": "stream",
     "text": [
      "Filepath to Directory with MATLAB Files: /Users/byronpetselis/Desktop/Cancer_Data/Qatar_Features\n",
      "Common Regex for Files to Include: _LESION_full_feature\n",
      "Name of Key Associated to Raw Data: full_feature\n",
      "Filepath to Directory with MATLAB Files: /Users/byronpetselis/Desktop/Cancer_Data/Qatar_Features\n",
      "Common Regex for Files to Include: _LESION_full_feature\n",
      "Name of Key Associated to Raw Data: full_feature\n"
     ]
    }
   ],
   "source": [
    "# Call convert_data... function twice, once for positive class and once for negative class\n",
    "# 1: /Users/byronpetselis/Desktop/Cancer_Data/Qatar_Features\n",
    "# 2: _LESION_full_feature\n",
    "# 3: full_feature\n",
    "raw_pos_data_dict = nf.convert_data_to_dict(pos_patients)\n",
    "raw_neg_data_dict = nf.convert_data_to_dict(neg_patients)"
   ]
  },
  {
   "cell_type": "code",
   "execution_count": 5,
   "id": "3b49ca03",
   "metadata": {},
   "outputs": [],
   "source": [
    "# Working Well\n",
    "# print(raw_pos_data_dict)\n",
    "# print(raw_neg_data_dict)"
   ]
  },
  {
   "cell_type": "code",
   "execution_count": 6,
   "id": "351dd39e",
   "metadata": {},
   "outputs": [
    {
     "name": "stdout",
     "output_type": "stream",
     "text": [
      "Filepath to Directory with MATLAB Files: /Users/byronpetselis/Desktop/Cancer_Data/Qatar_Mask\n",
      "Common Regex for Files to Include: _LESION_MASK\n",
      "Name of Key Associated to Raw Data: Mask\n",
      "Filepath to Directory with MATLAB Files: /Users/byronpetselis/Desktop/Cancer_Data/Qatar_Mask\n",
      "Common Regex for Files to Include: _LESION_MASK\n",
      "Name of Key Associated to Raw Data: Mask\n"
     ]
    }
   ],
   "source": [
    "# Call convert_mask... function twice, once for positive class and once for negative class\n",
    "# 1: /Users/byronpetselis/Desktop/Cancer_Data/Qatar_Mask\n",
    "# 2: _LESION_MASK\n",
    "# 3: Mask\n",
    "raw_pos_mask_dict = nf.convert_mask_to_dict(pos_patients)\n",
    "raw_neg_mask_dict = nf.convert_mask_to_dict(neg_patients)\n",
    "# Working Well"
   ]
  },
  {
   "cell_type": "code",
   "execution_count": 7,
   "id": "c8b219c9",
   "metadata": {},
   "outputs": [],
   "source": [
    "# Working Well\n",
    "# print(raw_pos_mask_dict)\n",
    "# print(raw_neg_mask_dict)"
   ]
  },
  {
   "cell_type": "code",
   "execution_count": 8,
   "id": "d56441d1",
   "metadata": {},
   "outputs": [],
   "source": [
    "# Obtain masked dictionaries\n",
    "masked_pos_dict = am.apply_mask(raw_pos_mask_dict, raw_pos_data_dict)\n",
    "masked_neg_dict = am.apply_mask(raw_neg_mask_dict, raw_neg_data_dict)"
   ]
  },
  {
   "cell_type": "code",
   "execution_count": 9,
   "id": "6602fb5d",
   "metadata": {},
   "outputs": [
    {
     "name": "stdout",
     "output_type": "stream",
     "text": [
      "(21516, 15)\n",
      "(25599, 15)\n"
     ]
    }
   ],
   "source": [
    "# Working Well\n",
    "print(np.shape(masked_pos_dict['Q8']))\n",
    "print(np.shape(masked_neg_dict['Q1']))"
   ]
  },
  {
   "cell_type": "code",
   "execution_count": 10,
   "id": "150ce69a",
   "metadata": {},
   "outputs": [
    {
     "name": "stdout",
     "output_type": "stream",
     "text": [
      "Do you want to normalize (yes/no): yes\n",
      "Do you want to normalize (yes/no): yes\n"
     ]
    }
   ],
   "source": [
    "# Normalize dictionaries\n",
    "masked_pos_dict = nf.normalize(masked_pos_dict)\n",
    "masked_neg_dict = nf.normalize(masked_neg_dict)"
   ]
  },
  {
   "cell_type": "code",
   "execution_count": 11,
   "id": "beb98db5",
   "metadata": {},
   "outputs": [
    {
     "name": "stdout",
     "output_type": "stream",
     "text": [
      "(21516, 15)\n",
      "(17243, 15)\n"
     ]
    }
   ],
   "source": [
    "# Working Well (Method not verified)\n",
    "print(np.shape(masked_pos_dict['Q8']))\n",
    "print(np.shape(masked_neg_dict['Q37']))"
   ]
  },
  {
   "cell_type": "code",
   "execution_count": 12,
   "id": "2fef9cc6",
   "metadata": {},
   "outputs": [
    {
     "name": "stdout",
     "output_type": "stream",
     "text": [
      "Do you want to remove outliers (yes/no): yes\n",
      "Enter the Std Deviation Threshold: 3\n",
      "Do you want to remove outliers (yes/no): yes\n",
      "Enter the Std Deviation Threshold: 3\n"
     ]
    }
   ],
   "source": [
    "# Remove Outliers\n",
    "masked_pos_dict = ro.remove_outliers_based_on_zscore(masked_pos_dict)\n",
    "masked_neg_dict = ro.remove_outliers_based_on_zscore(masked_neg_dict)"
   ]
  },
  {
   "cell_type": "code",
   "execution_count": 13,
   "id": "49cb4c2f",
   "metadata": {},
   "outputs": [
    {
     "name": "stdout",
     "output_type": "stream",
     "text": [
      "(25517, 15)\n",
      "(25599, 15)\n"
     ]
    }
   ],
   "source": [
    "# Working Well (Method not verified)\n",
    "print(np.shape(masked_pos_dict['Q17']))\n",
    "print(np.shape(masked_neg_dict['Q1']))"
   ]
  },
  {
   "cell_type": "code",
   "execution_count": 14,
   "id": "13a6cae5",
   "metadata": {},
   "outputs": [
    {
     "name": "stdout",
     "output_type": "stream",
     "text": [
      "What percentage of your data is for testing (20% = 0.2): 0.2\n"
     ]
    }
   ],
   "source": [
    "# Split & Select Labels\n",
    "split_perc = input(\"What percentage of your data is for testing (20% = 0.2): \")\n",
    "split_pos_labels = nf.split_labels(pos_patients, float(split_perc))\n",
    "split_neg_labels = nf.split_labels(neg_patients, float(split_perc))\n",
    "selected_pos_labels = nf.select_labels(split_pos_labels)\n",
    "selected_neg_labels = nf.select_labels(split_neg_labels)"
   ]
  },
  {
   "cell_type": "code",
   "execution_count": 15,
   "id": "35c4e464",
   "metadata": {},
   "outputs": [],
   "source": [
    "# Working Well\n",
    "# print(split_neg_labels)\n",
    "# print(split_pos_labels)\n",
    "# print(selected_neg_labels)\n",
    "# print(selected_pos_labels)"
   ]
  },
  {
   "cell_type": "code",
   "execution_count": 16,
   "id": "15726ab8",
   "metadata": {},
   "outputs": [
    {
     "name": "stdout",
     "output_type": "stream",
     "text": [
      "Does your data need transposing for your chosen ML Model: no\n"
     ]
    }
   ],
   "source": [
    "# Get Testing Data (Change Boolean to value of Transpose)\n",
    "transpose = input(\"Does your data need transposing for your chosen ML Model: \")\n",
    "testing_pos_dict, masked_pos_dict = nf.get_testing_data(masked_pos_dict, selected_pos_labels, False)\n",
    "testing_neg_dict, masked_neg_dict = nf.get_testing_data(masked_neg_dict, selected_neg_labels, False)\n",
    "training_pos_dict = nf.get_training_data(masked_pos_dict, False)\n",
    "training_neg_dict = nf.get_training_data(masked_neg_dict, False)"
   ]
  },
  {
   "cell_type": "code",
   "execution_count": 17,
   "id": "1df0cf81",
   "metadata": {},
   "outputs": [],
   "source": [
    "# Working Well\n",
    "# print(testing_pos_dict.keys())\n",
    "# print(testing_neg_dict.keys())\n",
    "# print(training_pos_dict.keys())\n",
    "# print(training_neg_dict.keys())\n",
    "# print(masked_pos_dict.keys())\n",
    "# print(masked_neg_dict.keys())"
   ]
  },
  {
   "cell_type": "code",
   "execution_count": 18,
   "id": "7b4767e7",
   "metadata": {},
   "outputs": [
    {
     "name": "stdout",
     "output_type": "stream",
     "text": [
      "(145865, 15)\n",
      "(130427, 15)\n",
      "(622792, 15)\n",
      "(583364, 15)\n"
     ]
    }
   ],
   "source": [
    "# Convert Dict to Vector (Change Boolean to value of Transpose)\n",
    "testing_pos_vect = cd.convert_dict_to_continuous_vector(testing_pos_dict, False)\n",
    "testing_neg_vect = cd.convert_dict_to_continuous_vector(testing_neg_dict, False)\n",
    "training_pos_vect = cd.convert_dict_to_continuous_vector(training_pos_dict, False)\n",
    "training_neg_vect = cd.convert_dict_to_continuous_vector(training_neg_dict, False)"
   ]
  },
  {
   "cell_type": "code",
   "execution_count": 19,
   "id": "2ad4358a",
   "metadata": {},
   "outputs": [],
   "source": [
    "# Generate Patient Indices\n",
    "test_pos_patient_idx = pp.generate_indices(testing_pos_dict)\n",
    "test_neg_patient_idx = pp.generate_indices(testing_neg_dict)\n",
    "train_pos_patient_idx = pp.generate_indices(training_pos_dict)\n",
    "train_neg_patient_idx = pp.generate_indices(training_neg_dict)"
   ]
  },
  {
   "cell_type": "code",
   "execution_count": 20,
   "id": "5d6192c8",
   "metadata": {},
   "outputs": [],
   "source": [
    "# Working Well (Need to Concat)\n",
    "# print(test_pos_patient_idx)\n",
    "# print(test_neg_patient_idx)\n",
    "# print(train_pos_patient_idx)\n",
    "# print(train_neg_patient_idx)"
   ]
  },
  {
   "cell_type": "code",
   "execution_count": 21,
   "id": "77794e3e",
   "metadata": {},
   "outputs": [],
   "source": [
    "# Generate Target Arrays\n",
    "test_pos_patient_target = mt.create_target_array(testing_pos_dict, True)\n",
    "test_neg_patient_target = mt.create_target_array(testing_neg_dict, False)\n",
    "train_pos_patient_target = mt.create_target_array(training_pos_dict, True)\n",
    "train_neg_patient_target = mt.create_target_array(training_neg_dict, False)"
   ]
  },
  {
   "cell_type": "code",
   "execution_count": 22,
   "id": "a3b3b606",
   "metadata": {},
   "outputs": [],
   "source": [
    "# Working Well\n",
    "# print(test_pos_patient_target)\n",
    "# print(test_neg_patient_target)\n",
    "# print(train_pos_patient_target)\n",
    "# print(train_neg_patient_target)"
   ]
  },
  {
   "cell_type": "code",
   "execution_count": 23,
   "id": "48814419",
   "metadata": {},
   "outputs": [],
   "source": [
    "# Generate Final Testing and Training Sets\n",
    "final_training_data = cp.concatenate_raw_data_arrays(training_pos_vect, training_neg_vect)\n",
    "final_training_target = cp.concatenate_raw_data_arrays(train_pos_patient_target, train_neg_patient_target)\n",
    "final_testing_data = cp.concatenate_raw_data_arrays(testing_pos_vect, testing_neg_vect)\n",
    "final_testing_target = cp.concatenate_raw_data_arrays(test_pos_patient_target, test_neg_patient_target)"
   ]
  },
  {
   "cell_type": "code",
   "execution_count": 24,
   "id": "57a3e76f",
   "metadata": {},
   "outputs": [
    {
     "ename": "NameError",
     "evalue": "name 'gamma_value' is not defined",
     "output_type": "error",
     "traceback": [
      "\u001b[0;31m---------------------------------------------------------------------------\u001b[0m",
      "\u001b[0;31mNameError\u001b[0m                                 Traceback (most recent call last)",
      "Input \u001b[0;32mIn [24]\u001b[0m, in \u001b[0;36m<cell line: 1>\u001b[0;34m()\u001b[0m\n\u001b[0;32m----> 1\u001b[0m \u001b[43mst\u001b[49m\u001b[38;5;241;43m.\u001b[39;49m\u001b[43msvm_train\u001b[49m\u001b[43m(\u001b[49m\u001b[43mfinal_training_data\u001b[49m\u001b[43m,\u001b[49m\u001b[43m \u001b[49m\u001b[43mfinal_testing_data\u001b[49m\u001b[43m,\u001b[49m\u001b[43m \u001b[49m\u001b[43mfinal_training_target\u001b[49m\u001b[43m,\u001b[49m\u001b[43m \u001b[49m\u001b[43mfinal_testing_target\u001b[49m\u001b[43m)\u001b[49m\n",
      "File \u001b[0;32m~/Documents/Connected Health Cancer/Oral-Cancer-Detection/Running_Pipeline/SVM_Train.py:19\u001b[0m, in \u001b[0;36msvm_train\u001b[0;34m(train_data, test_data, train_target, test_target)\u001b[0m\n\u001b[1;32m     14\u001b[0m     recall \u001b[38;5;241m=\u001b[39m []\n\u001b[1;32m     16\u001b[0m \u001b[38;5;66;03m#     testing_range = np.linspace(0.1,1,10)\u001b[39;00m\n\u001b[1;32m     17\u001b[0m \n\u001b[1;32m     18\u001b[0m \u001b[38;5;66;03m#     for gamma_value in testing_range:\u001b[39;00m\n\u001b[0;32m---> 19\u001b[0m     \u001b[38;5;28mcls\u001b[39m \u001b[38;5;241m=\u001b[39m svm\u001b[38;5;241m.\u001b[39mSVC(kernel\u001b[38;5;241m=\u001b[39m\u001b[38;5;124m'\u001b[39m\u001b[38;5;124mrbf\u001b[39m\u001b[38;5;124m'\u001b[39m, gamma\u001b[38;5;241m=\u001b[39m\u001b[43mgamma_value\u001b[49m, C\u001b[38;5;241m=\u001b[39m\u001b[38;5;241m1\u001b[39m, verbose\u001b[38;5;241m=\u001b[39m\u001b[38;5;241m1\u001b[39m)\n\u001b[1;32m     20\u001b[0m     \u001b[38;5;28mcls\u001b[39m\u001b[38;5;241m.\u001b[39mfit(train_data, train_target)\n\u001b[1;32m     21\u001b[0m     pred \u001b[38;5;241m=\u001b[39m \u001b[38;5;28mcls\u001b[39m\u001b[38;5;241m.\u001b[39mpredict(test_data)\n",
      "\u001b[0;31mNameError\u001b[0m: name 'gamma_value' is not defined"
     ]
    }
   ],
   "source": [
    "st.svm_train(final_training_data, final_testing_data, final_training_target, final_testing_target, 0.25)"
   ]
  },
  {
   "cell_type": "code",
   "execution_count": null,
   "id": "1efe2109",
   "metadata": {},
   "outputs": [],
   "source": []
  }
 ],
 "metadata": {
  "kernelspec": {
   "display_name": "Python 3 (ipykernel)",
   "language": "python",
   "name": "python3"
  },
  "language_info": {
   "codemirror_mode": {
    "name": "ipython",
    "version": 3
   },
   "file_extension": ".py",
   "mimetype": "text/x-python",
   "name": "python",
   "nbconvert_exporter": "python",
   "pygments_lexer": "ipython3",
   "version": "3.9.12"
  }
 },
 "nbformat": 4,
 "nbformat_minor": 5
}
