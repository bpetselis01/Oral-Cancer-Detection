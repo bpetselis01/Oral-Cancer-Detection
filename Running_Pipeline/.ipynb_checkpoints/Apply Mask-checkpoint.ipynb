{
 "cells": [
  {
   "cell_type": "code",
   "execution_count": 1,
   "id": "4960c19d",
   "metadata": {},
   "outputs": [],
   "source": [
    "import numpy as np"
   ]
  },
  {
   "cell_type": "code",
   "execution_count": 9,
   "id": "d3468739",
   "metadata": {},
   "outputs": [],
   "source": [
    "def apply_mask(mask_dict, full_feature_dict):\n",
    "    # Initialize an empty dictionary to store reduced features\n",
    "    reduced_feature_dict = {}\n",
    "    \n",
    "    for patient, mask in mask_dict.items():\n",
    "        full_feature = full_feature_dict.get(patient, None)\n",
    "        \n",
    "        if full_feature is not None:\n",
    "            # Apply the mask to the full feature array\n",
    "            reduced_feature = full_feature[np.where(mask == 1)]\n",
    "            reduced_feature_dict[patient] = reduced_feature\n",
    "    \n",
    "    return reduced_feature_dict"
   ]
  },
  {
   "cell_type": "code",
   "execution_count": 10,
   "id": "946eb19d",
   "metadata": {},
   "outputs": [],
   "source": [
    "# Example usage:\n",
    "mask_dict = {\n",
    "    'Patient1': np.array([0] * 5600 + [1] * 20000),\n",
    "    'Patient2': np.array([1] * 25600),  # All 1s\n",
    "    'Patient3': np.array([0] * 25600),  # All 0s\n",
    "}\n",
    "\n",
    "full_feature_dict = {\n",
    "    'Patient1': np.random.rand(25600, 15),  # Example full feature data\n",
    "    'Patient2': np.random.rand(25600, 15),\n",
    "    'Patient3': np.random.rand(25600, 15),\n",
    "}\n",
    "\n",
    "masked_data = apply_mask(mask_dict, full_feature_dict)"
   ]
  },
  {
   "cell_type": "code",
   "execution_count": 12,
   "id": "eec03893",
   "metadata": {},
   "outputs": [
    {
     "name": "stdout",
     "output_type": "stream",
     "text": [
      "(20000, 15)\n",
      "(25600, 15)\n",
      "(0, 15)\n"
     ]
    }
   ],
   "source": [
    "print(np.shape(masked_data['Patient1']))\n",
    "print(np.shape(masked_data['Patient2']))\n",
    "print(np.shape(masked_data['Patient3']))"
   ]
  },
  {
   "cell_type": "code",
   "execution_count": null,
   "id": "5d8df6c8",
   "metadata": {},
   "outputs": [],
   "source": []
  }
 ],
 "metadata": {
  "kernelspec": {
   "display_name": "Python 3 (ipykernel)",
   "language": "python",
   "name": "python3"
  },
  "language_info": {
   "codemirror_mode": {
    "name": "ipython",
    "version": 3
   },
   "file_extension": ".py",
   "mimetype": "text/x-python",
   "name": "python",
   "nbconvert_exporter": "python",
   "pygments_lexer": "ipython3",
   "version": "3.9.12"
  }
 },
 "nbformat": 4,
 "nbformat_minor": 5
}
