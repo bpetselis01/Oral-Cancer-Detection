{
 "cells": [
  {
   "cell_type": "code",
   "execution_count": 1,
   "id": "432326f3",
   "metadata": {},
   "outputs": [],
   "source": [
    "import numpy as np\n",
    "import scipy.io\n",
    "import os\n",
    "import glob"
   ]
  },
  {
   "cell_type": "code",
   "execution_count": 2,
   "id": "62929705",
   "metadata": {},
   "outputs": [],
   "source": [
    "def read_mat_file(filename):\n",
    "    mat = scipy.io.loadmat(filename)\n",
    "    # do something with the contents of the MATLAB file\n",
    "    return mat"
   ]
  },
  {
   "cell_type": "code",
   "execution_count": 3,
   "id": "d70a0cd9",
   "metadata": {},
   "outputs": [],
   "source": [
    "def read_mat_files(filenames):\n",
    "    data = []\n",
    "    for filename in filenames:\n",
    "        data.append(read_mat_file(filename))\n",
    "    return data"
   ]
  },
  {
   "cell_type": "code",
   "execution_count": 7,
   "id": "34979cd2",
   "metadata": {},
   "outputs": [
    {
     "name": "stdout",
     "output_type": "stream",
     "text": [
      "Enter Local Path to Full Feature/Raw Data: /Users/byronpetselis/Desktop/Cancer_Data/Qatar_Features\n"
     ]
    }
   ],
   "source": [
    "# UI: Upload the file path\n",
    "# '/Users/byronpetselis/Desktop/Cancer_Data/Qatar_Features'\n",
    "file_path = input(\"Enter Local Path to Full Feature/Raw Data: \")"
   ]
  },
  {
   "cell_type": "code",
   "execution_count": 21,
   "id": "5b5145ab",
   "metadata": {},
   "outputs": [],
   "source": [
    "# This will come from another function\n",
    "scc_data_labels = ['Q3', 'Q8', 'Q12', 'Q15', 'Q17', 'Q18', 'Q19', 'Q22', 'Q23', 'Q24', 'Q25', 'Q26', 'Q28', 'Q29', 'Q30', 'Q31', 'Q32', 'Q33', 'Q36', 'Q39', 'Q41', 'Q44', 'Q45', 'Q47', 'Q48', 'Q51', 'Q53', 'Q55', 'Q57', 'Q58', 'Q60', 'Q61', 'Q64', 'Q68']"
   ]
  },
  {
   "cell_type": "code",
   "execution_count": null,
   "id": "32d35b4f",
   "metadata": {},
   "outputs": [],
   "source": []
  },
  {
   "cell_type": "code",
   "execution_count": null,
   "id": "5aec38be",
   "metadata": {},
   "outputs": [],
   "source": []
  },
  {
   "cell_type": "code",
   "execution_count": 25,
   "id": "a0451eb6",
   "metadata": {},
   "outputs": [
    {
     "name": "stdout",
     "output_type": "stream",
     "text": [
      "Enter the common regular expression for all the files you want (everything after your patient label): _LESION_full_feature\n"
     ]
    }
   ],
   "source": [
    "# UI: Enter common regex for all files that user wants\n",
    "common_regex = input(\"Enter the common regular expression for all the files you want (everything after your patient label): \")"
   ]
  },
  {
   "cell_type": "code",
   "execution_count": 54,
   "id": "81756f64",
   "metadata": {},
   "outputs": [],
   "source": [
    "def display_keys_in_raw_data():\n",
    "    for label in scc_data_labels:\n",
    "        data_lesion = read_mat_files(glob.glob(file_path + \"/\" + label + common_regex + \"*\"))[0]\n",
    "        print(label + \": \" + str(list(data_lesion.keys())))"
   ]
  },
  {
   "cell_type": "code",
   "execution_count": 55,
   "id": "3d0dde1c",
   "metadata": {},
   "outputs": [
    {
     "name": "stdout",
     "output_type": "stream",
     "text": [
      "Q3: ['__header__', '__version__', '__globals__', 'full_feature']\n",
      "Q8: ['__header__', '__version__', '__globals__', 'full_feature']\n",
      "Q12: ['__header__', '__version__', '__globals__', 'full_feature']\n",
      "Q15: ['__header__', '__version__', '__globals__', 'full_feature']\n",
      "Q17: ['__header__', '__version__', '__globals__', 'full_feature']\n",
      "Q18: ['__header__', '__version__', '__globals__', 'full_feature']\n",
      "Q19: ['__header__', '__version__', '__globals__', 'full_feature']\n",
      "Q22: ['__header__', '__version__', '__globals__', 'full_feature']\n",
      "Q23: ['__header__', '__version__', '__globals__', 'full_feature']\n",
      "Q24: ['__header__', '__version__', '__globals__', 'full_feature']\n",
      "Q25: ['__header__', '__version__', '__globals__', 'full_feature']\n",
      "Q26: ['__header__', '__version__', '__globals__', 'full_feature']\n",
      "Q28: ['__header__', '__version__', '__globals__', 'full_feature']\n",
      "Q29: ['__header__', '__version__', '__globals__', 'full_feature']\n",
      "Q30: ['__header__', '__version__', '__globals__', 'full_feature']\n",
      "Q31: ['__header__', '__version__', '__globals__', 'full_feature']\n",
      "Q32: ['__header__', '__version__', '__globals__', 'full_feature']\n",
      "Q33: ['__header__', '__version__', '__globals__', 'full_feature']\n",
      "Q36: ['__header__', '__version__', '__globals__', 'full_feature']\n",
      "Q39: ['__header__', '__version__', '__globals__', 'full_feature']\n",
      "Q41: ['__header__', '__version__', '__globals__', 'full_feature']\n",
      "Q44: ['__header__', '__version__', '__globals__', 'full_feature']\n",
      "Q45: ['__header__', '__version__', '__globals__', 'full_feature']\n",
      "Q47: ['__header__', '__version__', '__globals__', 'full_feature']\n",
      "Q48: ['__header__', '__version__', '__globals__', 'full_feature']\n",
      "Q51: ['__header__', '__version__', '__globals__', 'full_feature']\n",
      "Q53: ['__header__', '__version__', '__globals__', 'full_feature']\n",
      "Q55: ['__header__', '__version__', '__globals__', 'full_feature']\n",
      "Q57: ['__header__', '__version__', '__globals__', 'full_feature']\n",
      "Q58: ['__header__', '__version__', '__globals__', 'full_feature']\n",
      "Q60: ['__header__', '__version__', '__globals__', 'full_feature']\n",
      "Q61: ['__header__', '__version__', '__globals__', 'full_feature']\n",
      "Q64: ['__header__', '__version__', '__globals__', 'full_feature']\n",
      "Q68: ['__header__', '__version__', '__globals__', 'full_feature']\n"
     ]
    }
   ],
   "source": [
    "# UI: Keys Found\n",
    "display_keys_in_raw_data()"
   ]
  },
  {
   "cell_type": "code",
   "execution_count": null,
   "id": "73700229",
   "metadata": {},
   "outputs": [],
   "source": []
  },
  {
   "cell_type": "code",
   "execution_count": 58,
   "id": "366517ba",
   "metadata": {},
   "outputs": [
    {
     "name": "stdout",
     "output_type": "stream",
     "text": [
      "Enter raw data key: full_feature\n"
     ]
    }
   ],
   "source": [
    "# UI: Enter key name that raw data is associated to\n",
    "raw_data_key = input(\"Enter raw data key: \")"
   ]
  },
  {
   "cell_type": "code",
   "execution_count": 60,
   "id": "1d3dc37e",
   "metadata": {},
   "outputs": [],
   "source": [
    "def display_raw_data_shape():\n",
    "    for label in scc_data_labels:\n",
    "        data_lesion = read_mat_files(glob.glob(file_path + \"/\" + label + common_regex + \"*\"))[0]\n",
    "        print(label + \": \" + str(np.shape(data_lesion[raw_data_key])))"
   ]
  },
  {
   "cell_type": "code",
   "execution_count": 61,
   "id": "24c68a47",
   "metadata": {},
   "outputs": [
    {
     "name": "stdout",
     "output_type": "stream",
     "text": [
      "Q3: (160, 160, 15)\n",
      "Q8: (160, 160, 15)\n",
      "Q12: (160, 160, 15)\n",
      "Q15: (160, 160, 15)\n",
      "Q17: (160, 160, 15)\n",
      "Q18: (160, 160, 15)\n",
      "Q19: (160, 160, 15)\n",
      "Q22: (160, 160, 15)\n",
      "Q23: (160, 160, 15)\n",
      "Q24: (160, 160, 15)\n",
      "Q25: (160, 160, 15)\n",
      "Q26: (160, 160, 15)\n",
      "Q28: (160, 160, 15)\n",
      "Q29: (160, 160, 15)\n",
      "Q30: (160, 160, 15)\n",
      "Q31: (160, 160, 15)\n",
      "Q32: (160, 160, 15)\n",
      "Q33: (160, 160, 15)\n",
      "Q36: (160, 160, 15)\n",
      "Q39: (160, 160, 15)\n",
      "Q41: (160, 160, 15)\n",
      "Q44: (160, 160, 15)\n",
      "Q45: (160, 160, 15)\n",
      "Q47: (160, 160, 15)\n",
      "Q48: (160, 160, 15)\n",
      "Q51: (160, 160, 15)\n",
      "Q53: (160, 160, 15)\n",
      "Q55: (160, 160, 15)\n",
      "Q57: (160, 160, 15)\n",
      "Q58: (160, 160, 15)\n",
      "Q60: (160, 160, 15)\n",
      "Q61: (160, 160, 15)\n",
      "Q64: (160, 160, 15)\n",
      "Q68: (160, 160, 15)\n"
     ]
    }
   ],
   "source": [
    "# UI: Shape of Data Found in All Files\n",
    "display_raw_data_shape()"
   ]
  },
  {
   "cell_type": "code",
   "execution_count": null,
   "id": "216cef8f",
   "metadata": {},
   "outputs": [],
   "source": []
  }
 ],
 "metadata": {
  "kernelspec": {
   "display_name": "Python 3 (ipykernel)",
   "language": "python",
   "name": "python3"
  },
  "language_info": {
   "codemirror_mode": {
    "name": "ipython",
    "version": 3
   },
   "file_extension": ".py",
   "mimetype": "text/x-python",
   "name": "python",
   "nbconvert_exporter": "python",
   "pygments_lexer": "ipython3",
   "version": "3.9.12"
  }
 },
 "nbformat": 4,
 "nbformat_minor": 5
}
