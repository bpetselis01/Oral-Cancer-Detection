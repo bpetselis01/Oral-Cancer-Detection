{
 "cells": [
  {
   "cell_type": "code",
   "execution_count": 54,
   "id": "b375585d",
   "metadata": {},
   "outputs": [],
   "source": [
    "import pandas as pd\n",
    "import numpy as np"
   ]
  },
  {
   "cell_type": "code",
   "execution_count": 58,
   "id": "e384f9b4",
   "metadata": {},
   "outputs": [],
   "source": [
    "def create_target_array(patient_data_dict, is_patient_cancerous):\n",
    "    target_array = np.array([])\n",
    "\n",
    "    for patient, data_array in patient_data_dict.items():\n",
    "\n",
    "        # Append 1 if cancerous, 0 if not\n",
    "        target_array = np.concatenate([target_array, np.ones(data_array.shape[0], dtype=int)]) if is_patient_cancerous else np.concatenate([target_array, np.zeros(data_array.shape[0], dtype=int)])\n",
    "        # Append True if cancerous, False if not\n",
    "        # target_array = np.concatenate([target_array, np.full(data_array.shape[0], is_patient_cancerous, dtype=bool)])\n",
    "    \n",
    "    return target_array"
   ]
  },
  {
   "cell_type": "code",
   "execution_count": 59,
   "id": "c273d011",
   "metadata": {},
   "outputs": [
    {
     "name": "stdout",
     "output_type": "stream",
     "text": [
      "(126000,)\n",
      "0.0\n"
     ]
    }
   ],
   "source": [
    "# Example usage\n",
    "patient_data_dict = {\n",
    "    'Patient1': np.random.rand(22000, 15),\n",
    "    'Patient2': np.random.rand(21000, 15),\n",
    "    'Patient3': np.random.rand(20000, 15),\n",
    "    # ... add more patients\n",
    "}\n",
    "\n",
    "is_cancerous_flag = False  # Set this to False if you want non-cancerous labels\n",
    "\n",
    "target_array = create_target_array(patient_data_dict, is_cancerous_flag)\n",
    "print(np.shape(target_array))\n",
    "print(target_array[125000])"
   ]
  },
  {
   "cell_type": "code",
   "execution_count": null,
   "id": "6efd0e49",
   "metadata": {},
   "outputs": [],
   "source": []
  },
  {
   "cell_type": "code",
   "execution_count": null,
   "id": "607c1702",
   "metadata": {},
   "outputs": [],
   "source": []
  }
 ],
 "metadata": {
  "kernelspec": {
   "display_name": "Python 3 (ipykernel)",
   "language": "python",
   "name": "python3"
  },
  "language_info": {
   "codemirror_mode": {
    "name": "ipython",
    "version": 3
   },
   "file_extension": ".py",
   "mimetype": "text/x-python",
   "name": "python",
   "nbconvert_exporter": "python",
   "pygments_lexer": "ipython3",
   "version": "3.9.12"
  }
 },
 "nbformat": 4,
 "nbformat_minor": 5
}
