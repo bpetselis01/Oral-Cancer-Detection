{
 "cells": [
  {
   "cell_type": "code",
   "execution_count": 1,
   "id": "d95b74dd",
   "metadata": {},
   "outputs": [],
   "source": [
    "import numpy as np\n",
    "from scipy import stats"
   ]
  },
  {
   "cell_type": "code",
   "execution_count": 2,
   "id": "b36c739a",
   "metadata": {},
   "outputs": [],
   "source": [
    "def remove_outliers_based_on_zscore(data_dict):\n",
    "    normalized_data_dict = {}  # Initialize a dictionary to store normalized data\n",
    "    \n",
    "    for patient, features in data_dict.items():\n",
    "        num_rows, num_cols = features.shape\n",
    "        normalized_features = np.empty_like(features)\n",
    "        \n",
    "        for col in range(num_cols):\n",
    "            # Calculate the mean and standard deviation for the current feature\n",
    "            feature_mean = np.mean(features[:, col])\n",
    "            feature_std = np.std(features[:, col])\n",
    "            \n",
    "            # Calculate z-scores for the current feature\n",
    "            z_scores = np.abs(stats.zscore(features[:, col]))\n",
    "            \n",
    "            # Replace the outliers with the feature mean\n",
    "            threshold = 3.0  # Adjust this threshold based on your dataset (Put this as a parameter maybe)\n",
    "            is_outlier = z_scores > threshold\n",
    "            normalized_features[:, col] = np.where(is_outlier, feature_mean, features[:, col])\n",
    "        \n",
    "        normalized_data_dict[patient] = normalized_features\n",
    "    \n",
    "    return normalized_data_dict"
   ]
  },
  {
   "cell_type": "code",
   "execution_count": 3,
   "id": "28389b57",
   "metadata": {},
   "outputs": [],
   "source": [
    "# Check that the implementation is correct"
   ]
  },
  {
   "cell_type": "code",
   "execution_count": null,
   "id": "3c87e669",
   "metadata": {},
   "outputs": [],
   "source": []
  }
 ],
 "metadata": {
  "kernelspec": {
   "display_name": "Python 3 (ipykernel)",
   "language": "python",
   "name": "python3"
  },
  "language_info": {
   "codemirror_mode": {
    "name": "ipython",
    "version": 3
   },
   "file_extension": ".py",
   "mimetype": "text/x-python",
   "name": "python",
   "nbconvert_exporter": "python",
   "pygments_lexer": "ipython3",
   "version": "3.9.12"
  }
 },
 "nbformat": 4,
 "nbformat_minor": 5
}
