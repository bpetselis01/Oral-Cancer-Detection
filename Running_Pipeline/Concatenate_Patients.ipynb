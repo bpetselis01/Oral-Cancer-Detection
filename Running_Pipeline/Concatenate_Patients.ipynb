{
 "cells": [
  {
   "cell_type": "code",
   "execution_count": 1,
   "id": "29d944dd",
   "metadata": {},
   "outputs": [],
   "source": [
    "import numpy as np"
   ]
  },
  {
   "cell_type": "code",
   "execution_count": 1,
   "id": "376f59c8",
   "metadata": {},
   "outputs": [],
   "source": [
    "def concatenate_raw_data_dicts(patient_data_dict):\n",
    "    concatenated_data = np.concatenate(list(patient_data_dict.values()), axis=0)\n",
    "    return concatenated_data"
   ]
  },
  {
   "cell_type": "code",
   "execution_count": 2,
   "id": "24eaeec1",
   "metadata": {},
   "outputs": [],
   "source": [
    "def concatenate_raw_data_arrays(array1, array2):\n",
    "    concatenated_data = np.concatenate([array1, array2], axis=0)\n",
    "    return concatenated_data"
   ]
  },
  {
   "cell_type": "code",
   "execution_count": 8,
   "id": "6e71bf33",
   "metadata": {},
   "outputs": [
    {
     "name": "stdout",
     "output_type": "stream",
     "text": [
      "[[0.52523392 0.83429884 0.65104883 ... 0.20322783 0.98212855 0.3627328 ]\n",
      " [0.08716981 0.24056496 0.46956848 ... 0.85379949 0.98638723 0.47053219]\n",
      " [0.42810812 0.72362775 0.38927237 ... 0.13453209 0.0282137  0.58867784]\n",
      " ...\n",
      " [0.57479615 0.1140859  0.33519573 ... 0.90364369 0.42731787 0.90880347]\n",
      " [0.60801011 0.84571189 0.26873571 ... 0.08472095 0.24800288 0.62615304]\n",
      " [0.34380328 0.16410609 0.58437582 ... 0.68773461 0.94701422 0.75413061]]\n",
      "(63000, 15)\n"
     ]
    }
   ],
   "source": [
    "# Example usage\n",
    "patient_data_dict = {\n",
    "    'Patient1': np.random.rand(22000, 15),\n",
    "    'Patient2': np.random.rand(21000, 15),\n",
    "    'Patient3': np.random.rand(20000, 15),\n",
    "    # ... add more patients\n",
    "}\n",
    "\n",
    "concatenated_data = concatenate_raw_data_arrays(patient_data_dict)\n",
    "print(concatenated_data)\n",
    "print(np.shape(concatenated_data))"
   ]
  },
  {
   "cell_type": "code",
   "execution_count": null,
   "id": "63b377e6",
   "metadata": {},
   "outputs": [],
   "source": []
  }
 ],
 "metadata": {
  "kernelspec": {
   "display_name": "Python 3 (ipykernel)",
   "language": "python",
   "name": "python3"
  },
  "language_info": {
   "codemirror_mode": {
    "name": "ipython",
    "version": 3
   },
   "file_extension": ".py",
   "mimetype": "text/x-python",
   "name": "python",
   "nbconvert_exporter": "python",
   "pygments_lexer": "ipython3",
   "version": "3.9.12"
  }
 },
 "nbformat": 4,
 "nbformat_minor": 5
}
