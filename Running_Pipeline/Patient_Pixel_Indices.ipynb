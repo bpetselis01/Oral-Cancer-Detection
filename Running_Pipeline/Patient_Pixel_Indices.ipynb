{
 "cells": [
  {
   "cell_type": "code",
   "execution_count": 2,
   "id": "2b75aad4",
   "metadata": {},
   "outputs": [],
   "source": [
    "import numpy as np"
   ]
  },
  {
   "cell_type": "code",
   "execution_count": 6,
   "id": "16f1bd47",
   "metadata": {},
   "outputs": [],
   "source": [
    "def generate_indices(patient_data_dict):\n",
    "    indices = []\n",
    "    for patient_id, patient_data in patient_data_dict.items():\n",
    "        # Get the number of elements based on the size of the patient_data\n",
    "        num_elements = len(patient_data)\n",
    "        # Generate the corresponding indices\n",
    "        patient_indices = [patient_id] * num_elements\n",
    "        indices.extend(patient_indices)\n",
    "    return np.array(indices)"
   ]
  },
  {
   "cell_type": "code",
   "execution_count": 7,
   "id": "94c023f7",
   "metadata": {},
   "outputs": [],
   "source": [
    "# Sample patient data dictionary\n",
    "patient_data_dict = {\n",
    "    1: np.random.rand(5000, 15),\n",
    "    2: np.random.rand(4000, 15),\n",
    "    3: np.random.rand(3000, 15),\n",
    "    6: np.random.rand(3000, 15)\n",
    "}"
   ]
  },
  {
   "cell_type": "code",
   "execution_count": 8,
   "id": "4e1f3fa1",
   "metadata": {},
   "outputs": [
    {
     "name": "stdout",
     "output_type": "stream",
     "text": [
      "[1 1 1 ... 6 6 6]\n"
     ]
    }
   ],
   "source": [
    "# Generate the indices\n",
    "indices = generate_indices(patient_data_dict)\n",
    "\n",
    "# Print the first few indices\n",
    "print(indices[20:])  # Print the first 20 indices as an example"
   ]
  },
  {
   "cell_type": "code",
   "execution_count": 13,
   "id": "15312d83",
   "metadata": {},
   "outputs": [],
   "source": [
    "# Keep start and end index of the patient"
   ]
  },
  {
   "cell_type": "code",
   "execution_count": null,
   "id": "16cac182",
   "metadata": {},
   "outputs": [],
   "source": [
    "# Final Output should be a 2D Matrix and Patient Pixel Index thingy"
   ]
  }
 ],
 "metadata": {
  "kernelspec": {
   "display_name": "Python 3 (ipykernel)",
   "language": "python",
   "name": "python3"
  },
  "language_info": {
   "codemirror_mode": {
    "name": "ipython",
    "version": 3
   },
   "file_extension": ".py",
   "mimetype": "text/x-python",
   "name": "python",
   "nbconvert_exporter": "python",
   "pygments_lexer": "ipython3",
   "version": "3.9.12"
  }
 },
 "nbformat": 4,
 "nbformat_minor": 5
}
