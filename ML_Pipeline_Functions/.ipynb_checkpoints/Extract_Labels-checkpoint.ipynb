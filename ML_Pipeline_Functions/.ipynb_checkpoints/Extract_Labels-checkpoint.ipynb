{
 "cells": [
  {
   "cell_type": "code",
   "execution_count": 6,
   "id": "2968758c",
   "metadata": {},
   "outputs": [],
   "source": [
    "import pandas as pd"
   ]
  },
  {
   "cell_type": "code",
   "execution_count": 7,
   "id": "a56c0eed",
   "metadata": {},
   "outputs": [],
   "source": [
    "def extract_labels():\n",
    "    # UI: Upload the file (Applies to both Full Feature & Mask)\n",
    "    file_path = input(\"Filepath: \")\n",
    "    df = pd.read_excel(file_path)\n",
    "    \n",
    "    # UI: Column Names Found, Please Choose which Dataset to use\n",
    "    column_names = [col for col in df.columns if not col.startswith('Unnamed')]\n",
    "    print(\"Detected Column Names (Datasets):\", ', '.join(column_names))\n",
    "    chosen_dataset = input(\"Choose Dataset: \")\n",
    "    \n",
    "    # UI: Ask for names of two classes\n",
    "    positive = input(\"Positive Class: \")\n",
    "    negative = input(\"Negative Class: \")\n",
    "    \n",
    "    # UI: Please enter all labels belonging to the positive class (Including the Label of the Positive Class)\n",
    "    prompt = \"Enter Subclasses of \" + positive + \": \"\n",
    "    positive_subclasses = []\n",
    "    done = False\n",
    "    while (not done):\n",
    "        string = input(prompt)\n",
    "        positive_subclasses.append(string)\n",
    "        if (string == \"\"):\n",
    "            done = True\n",
    "    \n",
    "    # UI: Please enter all labels belonging to the negative class (Including the Label of the Negative Class)\n",
    "    prompt = \"Enter Subclasses of \" + negative + \": \"\n",
    "    negative_subclasses = []\n",
    "    done = False\n",
    "    while (not done):\n",
    "        string = input(prompt)\n",
    "        negative_subclasses.append(string)\n",
    "        if (string == \"\"):\n",
    "            done = True\n",
    "            \n",
    "    # UI: User enters the \"categories\" of different Diagnoses that the Database has, has the option of grouping labels\n",
    "    filtered_pos = [item for item in positive_subclasses if item != '']\n",
    "    filtered_neg = [item for item in negative_subclasses if item != '']\n",
    "    labels = {}\n",
    "\n",
    "    # Assign 'positive_data_labels' to positive subclasses\n",
    "    for subclass in filtered_pos:\n",
    "        labels[subclass] = 'positive_data_labels'\n",
    "\n",
    "    # Assign 'negative_data_labels' to negative subclass\n",
    "    for subclass in filtered_neg:\n",
    "        labels[subclass] = 'negative_data_labels'\n",
    "\n",
    "    print(labels)\n",
    "    \n",
    "    # UI: Processing your request, creating sets of data\n",
    "    positive_data_labels = []\n",
    "    negative_data_labels = []\n",
    "    for index, condition in enumerate(chosen_dataset):\n",
    "        if condition in labels:\n",
    "            label = labels[condition]\n",
    "            globals()[label].append(f'Q{index + 1}')\n",
    "            \n",
    "    print(positive_data_labels)\n",
    "    print(negative_data_labels)"
   ]
  },
  {
   "cell_type": "code",
   "execution_count": 8,
   "id": "885b60f4",
   "metadata": {},
   "outputs": [],
   "source": [
    "# UI: Upload the file (Applies to both Full Feature & Mask)\n",
    "file_path = '/Users/byronpetselis/Desktop/All_Data_Labels.xlsx'"
   ]
  },
  {
   "cell_type": "code",
   "execution_count": 9,
   "id": "ff6c924b",
   "metadata": {},
   "outputs": [],
   "source": [
    "df = pd.read_excel(file_path)"
   ]
  },
  {
   "cell_type": "code",
   "execution_count": null,
   "id": "d20b7645",
   "metadata": {},
   "outputs": [],
   "source": []
  },
  {
   "cell_type": "code",
   "execution_count": 10,
   "id": "b59176b4",
   "metadata": {},
   "outputs": [
    {
     "name": "stdout",
     "output_type": "stream",
     "text": [
      "Detected Column Names (Datasets): Dallas, Qatar\n"
     ]
    }
   ],
   "source": [
    "# UI: Column Names Found, Please Choose which Dataset to use\n",
    "column_names = [col for col in df.columns if not col.startswith('Unnamed')]\n",
    "print(\"Detected Column Names (Datasets):\", ', '.join(column_names))"
   ]
  },
  {
   "cell_type": "code",
   "execution_count": 11,
   "id": "c11cef5c",
   "metadata": {},
   "outputs": [],
   "source": [
    "# UI: If user chooses \"Qatar\"\n",
    "chosen_dataset = df['Qatar']"
   ]
  },
  {
   "cell_type": "code",
   "execution_count": 12,
   "id": "0f6acd08",
   "metadata": {},
   "outputs": [
    {
     "name": "stdout",
     "output_type": "stream",
     "text": [
      "Positive Class: SCC\n",
      "Negative Class: Benign\n"
     ]
    }
   ],
   "source": [
    "# UI: Ask for names of two classes\n",
    "positive = input(\"Positive Class: \")\n",
    "negative = input(\"Negative Class: \")"
   ]
  },
  {
   "cell_type": "code",
   "execution_count": 13,
   "id": "6b5c2352",
   "metadata": {},
   "outputs": [
    {
     "name": "stdout",
     "output_type": "stream",
     "text": [
      "Enter Subclasses of SCC: SCC\n",
      "Enter Subclasses of SCC: High Grade Dysplasia\n",
      "Enter Subclasses of SCC: Moderate Dysplasia\n",
      "Enter Subclasses of SCC: Mild Dysplasia\n",
      "Enter Subclasses of SCC: \n"
     ]
    }
   ],
   "source": [
    "# UI: Please enter all labels belonging to the positive class (Including the Label of the Positive Class)\n",
    "prompt = \"Enter Subclasses of \" + positive + \": \"\n",
    "positive_subclasses = []\n",
    "done = False\n",
    "while (not done):\n",
    "    string = input(prompt)\n",
    "    positive_subclasses.append(string)\n",
    "    if (string == \"\"):\n",
    "        done = True"
   ]
  },
  {
   "cell_type": "code",
   "execution_count": 14,
   "id": "dfde3e21",
   "metadata": {},
   "outputs": [
    {
     "name": "stdout",
     "output_type": "stream",
     "text": [
      "Enter Subclasses of Benign: Benign\n",
      "Enter Subclasses of Benign: \n"
     ]
    }
   ],
   "source": [
    "# UI: Please enter all labels belonging to the negative class (Including the Label of the Negative Class)\n",
    "prompt = \"Enter Subclasses of \" + negative + \": \"\n",
    "negative_subclasses = []\n",
    "done = False\n",
    "while (not done):\n",
    "    string = input(prompt)\n",
    "    negative_subclasses.append(string)\n",
    "    if (string == \"\"):\n",
    "        done = True"
   ]
  },
  {
   "cell_type": "code",
   "execution_count": 15,
   "id": "8eddc0e1",
   "metadata": {},
   "outputs": [
    {
     "name": "stdout",
     "output_type": "stream",
     "text": [
      "{'SCC': 'positive_data_labels', 'High Grade Dysplasia': 'positive_data_labels', 'Moderate Dysplasia': 'positive_data_labels', 'Mild Dysplasia': 'positive_data_labels', 'Benign': 'negative_data_labels'}\n"
     ]
    }
   ],
   "source": [
    "# UI: User enters the \"categories\" of different Diagnoses that the Database has, has the option of grouping labels\n",
    "filtered_pos = [item for item in positive_subclasses if item != '']\n",
    "filtered_neg = [item for item in negative_subclasses if item != '']\n",
    "labels = {}\n",
    "\n",
    "# Assign 'positive_data_labels' to positive subclasses\n",
    "for subclass in filtered_pos:\n",
    "    labels[subclass] = 'positive_data_labels'\n",
    "\n",
    "# Assign 'negative_data_labels' to negative subclass\n",
    "for subclass in filtered_neg:\n",
    "    labels[subclass] = 'negative_data_labels'\n",
    "\n",
    "print(labels)"
   ]
  },
  {
   "cell_type": "code",
   "execution_count": 16,
   "id": "8b145746",
   "metadata": {},
   "outputs": [],
   "source": [
    "# UI: Processing your request, creating sets of data\n",
    "positive_data_labels = []\n",
    "negative_data_labels = []\n",
    "for index, condition in enumerate(chosen_dataset):\n",
    "    if condition in labels:\n",
    "        label = labels[condition]\n",
    "        globals()[label].append(f'Q{index + 1}')"
   ]
  },
  {
   "cell_type": "code",
   "execution_count": 17,
   "id": "b0f3ad06",
   "metadata": {
    "scrolled": true
   },
   "outputs": [
    {
     "name": "stdout",
     "output_type": "stream",
     "text": [
      "['Q3', 'Q8', 'Q12', 'Q15', 'Q17', 'Q18', 'Q19', 'Q22', 'Q23', 'Q24', 'Q25', 'Q26', 'Q28', 'Q29', 'Q30', 'Q31', 'Q32', 'Q33', 'Q36', 'Q39', 'Q41', 'Q44', 'Q45', 'Q47', 'Q48', 'Q51', 'Q53', 'Q55', 'Q57', 'Q58', 'Q60', 'Q61', 'Q64', 'Q68']\n",
      "['Q1', 'Q2', 'Q4', 'Q5', 'Q6', 'Q7', 'Q9', 'Q10', 'Q11', 'Q13', 'Q14', 'Q16', 'Q20', 'Q21', 'Q27', 'Q34', 'Q35', 'Q37', 'Q38', 'Q40', 'Q42', 'Q43', 'Q46', 'Q49', 'Q50', 'Q52', 'Q54', 'Q56', 'Q59', 'Q62', 'Q63', 'Q65', 'Q66', 'Q67', 'Q69']\n"
     ]
    }
   ],
   "source": [
    "print(positive_data_labels)\n",
    "print(negative_data_labels)"
   ]
  },
  {
   "cell_type": "code",
   "execution_count": null,
   "id": "52f6ea8d",
   "metadata": {},
   "outputs": [],
   "source": [
    "# Enter Subclasses of SCC: SCC\n",
    "# Enter Subclasses of SCC: High Grade Dysplasia\n",
    "# Enter Subclasses of SCC: Moderate Dysplasia\n",
    "# Enter Subclasses of SCC: Mild Dysplasia\n",
    "# Enter Subclasses of SCC: "
   ]
  }
 ],
 "metadata": {
  "kernelspec": {
   "display_name": "Python 3 (ipykernel)",
   "language": "python",
   "name": "python3"
  },
  "language_info": {
   "codemirror_mode": {
    "name": "ipython",
    "version": 3
   },
   "file_extension": ".py",
   "mimetype": "text/x-python",
   "name": "python",
   "nbconvert_exporter": "python",
   "pygments_lexer": "ipython3",
   "version": "3.9.12"
  }
 },
 "nbformat": 4,
 "nbformat_minor": 5
}
