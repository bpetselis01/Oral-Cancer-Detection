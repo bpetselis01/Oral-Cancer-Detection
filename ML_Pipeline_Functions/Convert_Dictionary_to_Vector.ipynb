{
 "cells": [
  {
   "cell_type": "code",
   "execution_count": 1,
   "id": "36b186dd",
   "metadata": {},
   "outputs": [],
   "source": [
    "import numpy as np"
   ]
  },
  {
   "cell_type": "code",
   "execution_count": 52,
   "id": "f770ea06",
   "metadata": {},
   "outputs": [],
   "source": [
    "def convert_dict_to_continuous_vector(data_dict, transform_flag=False):\n",
    "    # Create lists to store individual arrays\n",
    "    patient_arrays = list(data_dict.values())\n",
    "    flattened_list = [item for sublist in patient_arrays for item in sublist]\n",
    "\n",
    "    if transform_flag:\n",
    "        # Stack the arrays horizontally for a neural network input\n",
    "        result_vector = np.reshape(flattened_list, (np.shape(flattened_list)[1], np.shape(flattened_list)[0]))\n",
    "    else:\n",
    "        # Stack the arrays vertically for an SVM input\n",
    "        result_vector = np.vstack(flattened_list)\n",
    "\n",
    "    print(np.shape(result_vector))\n",
    "    return result_vector"
   ]
  },
  {
   "cell_type": "code",
   "execution_count": 53,
   "id": "c032cd77",
   "metadata": {},
   "outputs": [],
   "source": [
    "# Example usage:\n",
    "data_dict = {\n",
    "    'Patient1': np.random.rand(20000, 15),  # Replace this with your data\n",
    "    'Patient2': np.random.rand(15000, 15)   # Replace this with your data\n",
    "}"
   ]
  },
  {
   "cell_type": "code",
   "execution_count": 54,
   "id": "27478c1e",
   "metadata": {},
   "outputs": [
    {
     "name": "stdout",
     "output_type": "stream",
     "text": [
      "(35000, 15)\n",
      "(15, 35000)\n"
     ]
    }
   ],
   "source": [
    "# Convert to a continuous vector for SVM\n",
    "svm_vector = convert_dict_to_continuous_vector(data_dict, False)\n",
    "\n",
    "# Convert to a continuous vector for a Neural Network\n",
    "nn_vector = convert_dict_to_continuous_vector(data_dict, True)"
   ]
  },
  {
   "cell_type": "code",
   "execution_count": 55,
   "id": "4e6771c9",
   "metadata": {},
   "outputs": [],
   "source": [
    "# Two variable, columns and rows and which (features or pixels) do you want to orient it"
   ]
  },
  {
   "cell_type": "code",
   "execution_count": 56,
   "id": "23875d80",
   "metadata": {},
   "outputs": [],
   "source": [
    "# Our pipeline will provide functionalities of certain pipeline"
   ]
  },
  {
   "cell_type": "code",
   "execution_count": 57,
   "id": "30c77d6a",
   "metadata": {},
   "outputs": [],
   "source": [
    "# Ask for data structure as parameter? You want a dictionary?"
   ]
  },
  {
   "cell_type": "code",
   "execution_count": null,
   "id": "a4cbf1ce",
   "metadata": {},
   "outputs": [],
   "source": []
  }
 ],
 "metadata": {
  "kernelspec": {
   "display_name": "Python 3 (ipykernel)",
   "language": "python",
   "name": "python3"
  },
  "language_info": {
   "codemirror_mode": {
    "name": "ipython",
    "version": 3
   },
   "file_extension": ".py",
   "mimetype": "text/x-python",
   "name": "python",
   "nbconvert_exporter": "python",
   "pygments_lexer": "ipython3",
   "version": "3.9.12"
  }
 },
 "nbformat": 4,
 "nbformat_minor": 5
}
