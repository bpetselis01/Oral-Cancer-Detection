{
 "cells": [
  {
   "cell_type": "code",
   "execution_count": 1,
   "id": "5e662374",
   "metadata": {},
   "outputs": [
    {
     "name": "stderr",
     "output_type": "stream",
     "text": [
      "\u001b[32m\u001b[1m    Updating\u001b[22m\u001b[39m registry at `C:\\Users\\Nicol\\.julia\\registries\\General.toml`\n",
      "\u001b[32m\u001b[1m   Resolving\u001b[22m\u001b[39m package versions...\n",
      "\u001b[32m\u001b[1m  No Changes\u001b[22m\u001b[39m to `C:\\Users\\Nicol\\.julia\\environments\\v1.8\\Project.toml`\n",
      "\u001b[32m\u001b[1m  No Changes\u001b[22m\u001b[39m to `C:\\Users\\Nicol\\.julia\\environments\\v1.8\\Manifest.toml`\n",
      "\u001b[32m\u001b[1m   Resolving\u001b[22m\u001b[39m package versions...\n",
      "\u001b[32m\u001b[1m  No Changes\u001b[22m\u001b[39m to `C:\\Users\\Nicol\\.julia\\environments\\v1.8\\Project.toml`\n",
      "\u001b[32m\u001b[1m  No Changes\u001b[22m\u001b[39m to `C:\\Users\\Nicol\\.julia\\environments\\v1.8\\Manifest.toml`\n",
      "\u001b[32m\u001b[1m   Resolving\u001b[22m\u001b[39m package versions...\n",
      "\u001b[32m\u001b[1m  No Changes\u001b[22m\u001b[39m to `C:\\Users\\Nicol\\.julia\\environments\\v1.8\\Project.toml`\n",
      "\u001b[32m\u001b[1m  No Changes\u001b[22m\u001b[39m to `C:\\Users\\Nicol\\.julia\\environments\\v1.8\\Manifest.toml`\n",
      "\u001b[32m\u001b[1m   Resolving\u001b[22m\u001b[39m package versions...\n",
      "\u001b[32m\u001b[1m  No Changes\u001b[22m\u001b[39m to `C:\\Users\\Nicol\\.julia\\environments\\v1.8\\Project.toml`\n",
      "\u001b[32m\u001b[1m  No Changes\u001b[22m\u001b[39m to `C:\\Users\\Nicol\\.julia\\environments\\v1.8\\Manifest.toml`\n",
      "\u001b[32m\u001b[1m   Resolving\u001b[22m\u001b[39m package versions...\n",
      "\u001b[32m\u001b[1m  No Changes\u001b[22m\u001b[39m to `C:\\Users\\Nicol\\.julia\\environments\\v1.8\\Project.toml`\n",
      "\u001b[32m\u001b[1m  No Changes\u001b[22m\u001b[39m to `C:\\Users\\Nicol\\.julia\\environments\\v1.8\\Manifest.toml`\n"
     ]
    }
   ],
   "source": [
    "import Pkg\n",
    "Pkg.add(\"MAT\")\n",
    "Pkg.add(\"Flux\")\n",
    "Pkg.add(\"NNlib\")\n",
    "Pkg.add(\"CUDA\")\n",
    "Pkg.add(\"Statistics\")\n",
    "\n",
    "using Flux\n",
    "# using Flux: crossentropy, onecold, onehotbatch, train!, params \n",
    "using MAT\n",
    "using CUDA\n",
    "using Statistics\n",
    "using Distributions, StatsPlots, Random"
   ]
  },
  {
   "cell_type": "code",
   "execution_count": 9,
   "id": "5fce3cfb",
   "metadata": {},
   "outputs": [],
   "source": [
    "#Cancer features - 29\n",
    "begin\n",
    "    Cancer_data_labels = [\"Q3\", \"Q8\", \"Q12\", \"Q15\", \"Q17\", \"Q22\", \"Q24\", \"Q26\", \"Q28\", \"Q29\",\"Q30\",\"Q31\", \"Q32\",\"Q33\",\"Q36\",\"Q39\",\"Q41\",\"Q44\",\"Q45\",\"Q47\",\"Q48\", \"Q51\",\"Q53\",\"Q55\",\"Q57\",\"Q58\",\"Q61\",\"Q64\",\"Q68\"]\n",
    "    Cancer_dict = Dict()\n",
    "    for i in Cancer_data_labels\n",
    "        file1 = matopen(\"/Users/Nicol/OneDrive/Desktop/Nicole_UNSW/VIP 2023/Features - Qatar/$i\"*\"_LESION_full_feature.mat\")\n",
    "        feature = read(file1, \"full_feature\")\n",
    "        push!(Cancer_dict,\"$i\"=>reshape(feature,(160*160,15)))\n",
    "    end\n",
    "end \n",
    "\n",
    "#Precancerous features - 5\n",
    "begin\n",
    "    Precancerous_data_labels = [\"Q18\",\"Q19\",\"Q23\",\"Q25\",\"Q60\"]\n",
    "    Precancerous_dict = Dict()\n",
    "    for i in Precancerous_data_labels\n",
    "        file1 = matopen(\"/Users/Nicol/OneDrive/Desktop/Nicole_UNSW/VIP 2023/Features - Qatar/$i\"*\"_LESION_full_feature.mat\")\n",
    "        feature = read(file1, \"full_feature\")\n",
    "        push!(Precancerous_dict,\"$i\"=>reshape(feature,(160*160,15)))\n",
    "    end\n",
    "end\n",
    "\n",
    "#Benign features - 35\n",
    "begin\n",
    "    Benign_data_labels = [\"Q1\",\"Q2\",\"Q4\",\"Q5\",\"Q6\",\"Q7\",\"Q9\",\"Q10\",\"Q11\",\"Q13\",\"Q14\",\"Q16\",\"Q20\",\"Q21\", \"Q27\",\"Q34\",\"Q35\",\"Q37\",\"Q38\",\"Q40\",\"Q42\",\"Q43\",\"Q46\",\"Q49\",\"Q50\", \"Q52\",\"Q54\",\"Q56\",\"Q59\",\"Q62\",\"Q63\",\"Q65\",\"Q66\",\"Q67\",\"Q69\"]\n",
    "    Benign_dict = Dict()\n",
    "    for i in Benign_data_labels\n",
    "        file1 = matopen(\"/Users/Nicol/OneDrive/Desktop/Nicole_UNSW/VIP 2023/Features - Qatar/$i\"*\"_LESION_full_feature.mat\")\n",
    "        feature = read(file1, \"full_feature\")\n",
    "        push!(Benign_dict,\"$i\"=>reshape(feature,(160*160,15)))\n",
    "    end\n",
    "end"
   ]
  },
  {
   "cell_type": "code",
   "execution_count": 10,
   "id": "f6d3f698",
   "metadata": {},
   "outputs": [
    {
     "name": "stdout",
     "output_type": "stream",
     "text": [
      "6\n",
      "(15, 25600)\n"
     ]
    }
   ],
   "source": [
    "cancer_testing = []\n",
    "cancer_training = []\n",
    "\n",
    "pre_cancer_testing = []\n",
    "pre_cancer_training = []\n",
    "\n",
    "benign_testing = []\n",
    "benign_training = []\n",
    "\n",
    "# Taking 20% for testing\n",
    "\n",
    "for key in [\"Q29\", \"Q17\", \"Q26\", \"Q61\", \"Q36\", \"Q3\"]\n",
    "    data = pop!(Cancer_dict, key)\n",
    "    push!(cancer_testing, data') # making data (15,160*160) - features are rows\n",
    "end\n",
    "println(length(cancer_testing))\n",
    "println(size(cancer_testing[1]))\n",
    "\n",
    "for (key,value) in Cancer_dict\n",
    "    data = pop!(Cancer_dict, key)\n",
    "    push!(cancer_training, data')\n",
    "end\n",
    "\n",
    "for key in [\"Q19\"]\n",
    "    data = pop!(Precancerous_dict, key)\n",
    "    push!(pre_cancer_testing, data')\n",
    "end\n",
    "\n",
    "for (key,value) in Precancerous_dict\n",
    "    data = pop!(Precancerous_dict, key)\n",
    "    push!(pre_cancer_training, data')\n",
    "end\n",
    "\n",
    "for key in [\"Q10\", \"Q20\", \"Q35\", \"Q43\", \"Q50\", \"Q56\", \"Q69\"]\n",
    "    data = pop!(Benign_dict, key)\n",
    "    push!(benign_testing, data')\n",
    "end\n",
    "\n",
    "for (key,value) in Benign_dict\n",
    "    data = pop!(Benign_dict, key)\n",
    "    push!(benign_training, data')\n",
    "end"
   ]
  },
  {
   "cell_type": "code",
   "execution_count": 11,
   "id": "1dc295ed",
   "metadata": {},
   "outputs": [
    {
     "name": "stdout",
     "output_type": "stream",
     "text": [
      "2304000\n",
      "(15, 1408000)\n"
     ]
    },
    {
     "data": {
      "text/plain": [
       "358400-element Vector{Float64}:\n",
       " 1.0\n",
       " 1.0\n",
       " 1.0\n",
       " 1.0\n",
       " 1.0\n",
       " 1.0\n",
       " 1.0\n",
       " 1.0\n",
       " 1.0\n",
       " 1.0\n",
       " 1.0\n",
       " 1.0\n",
       " 1.0\n",
       " ⋮\n",
       " 0.0\n",
       " 0.0\n",
       " 0.0\n",
       " 0.0\n",
       " 0.0\n",
       " 0.0\n",
       " 0.0\n",
       " 0.0\n",
       " 0.0\n",
       " 0.0\n",
       " 0.0\n",
       " 0.0"
      ]
     },
     "execution_count": 11,
     "metadata": {},
     "output_type": "execute_result"
    }
   ],
   "source": [
    "cancer_testing = hcat(cancer_testing...)\n",
    "cancer_training = hcat(cancer_training...)\n",
    "println(length(cancer_testing))\n",
    "\n",
    "pre_cancer_testing = hcat(pre_cancer_testing...)\n",
    "pre_cancer_training = hcat(pre_cancer_training...)\n",
    "\n",
    "combined_cancer_testing = hcat(cancer_testing, pre_cancer_testing)\n",
    "combined_cancer_training = hcat(cancer_training, pre_cancer_training)\n",
    "\n",
    "benign_testing = hcat(benign_testing...)\n",
    "benign_training = hcat(benign_training...)\n",
    "\n",
    "X = hcat(combined_cancer_training, benign_training)\n",
    "println(size(X))\n",
    "Y = vcat(ones(size(combined_cancer_training,2)),zeros(size(benign_training,2)))\n",
    "\n",
    "X_test = hcat(combined_cancer_testing, benign_testing)\n",
    "Y_test = vcat(ones(size(combined_cancer_testing,2)),zeros(size(benign_testing,2)))"
   ]
  },
  {
   "cell_type": "code",
   "execution_count": 12,
   "id": "bff0092f",
   "metadata": {},
   "outputs": [
    {
     "data": {
      "text/plain": [
       "Adam(0.01, (0.9, 0.999), 1.0e-8, IdDict{Any, Any}())"
      ]
     },
     "execution_count": 12,
     "metadata": {},
     "output_type": "execute_result"
    }
   ],
   "source": [
    "model = Chain(\n",
    "    Dense(15, 45, relu),\n",
    "    BatchNorm(45, relu),\n",
    "    Dense(45, 45, relu),\n",
    "    BatchNorm(45, relu),\n",
    "    Dense(45, 15, relu),\n",
    "    BatchNorm(15, relu),\n",
    "    sigmoid\n",
    ")\n",
    "\n",
    "# define loss function\n",
    "\n",
    "loss(x, y) = Flux.crossentropy(model(x), y)\n",
    "\n",
    "# track parameters\n",
    "\n",
    "ps = Flux.params(model)\n",
    "\n",
    "# select optimizer\n",
    "\n",
    "learning_rate = 0.01\n",
    "\n",
    "# Adaptive Moment Estimation\n",
    "opt = ADAM(learning_rate)"
   ]
  },
  {
   "cell_type": "code",
   "execution_count": 13,
   "id": "75aaa84b",
   "metadata": {},
   "outputs": [
    {
     "name": "stdout",
     "output_type": "stream",
     "text": [
      "Epoch = 1 : Training Loss = 0.1891127542855328\n",
      "Epoch = 2 : Training Loss = 0.08490254308708162\n",
      "Epoch = 3 : Training Loss = 0.039554598803528136\n",
      "Epoch = 4 : Training Loss = 0.02041809263184984\n",
      "Epoch = 5 : Training Loss = 0.013539416325197454\n",
      "Epoch = 6 : Training Loss = 0.010650003724126562\n",
      "Epoch = 7 : Training Loss = 0.008838777708123486\n",
      "Epoch = 8 : Training Loss = 0.0073376607208944025\n",
      "Epoch = 9 : Training Loss = 0.005984096590978413\n",
      "Epoch = 10 : Training Loss = 0.004742119580730087\n",
      "Epoch = 11 : Training Loss = 0.0036389657004457505\n",
      "Epoch = 12 : Training Loss = 0.002656139155840518\n",
      "Epoch = 13 : Training Loss = 0.0018671606665539037\n",
      "Epoch = 14 : Training Loss = 0.0012453314508151063\n",
      "Epoch = 15 : Training Loss = 0.0007949429939119095\n",
      "Epoch = 16 : Training Loss = 0.00048406430086370676\n",
      "Epoch = 17 : Training Loss = 0.00028367713598841825\n",
      "Epoch = 18 : Training Loss = 0.0001614118379674597\n",
      "Epoch = 19 : Training Loss = 9.001003770764087e-5\n",
      "Epoch = 20 : Training Loss = 4.964282881184673e-5\n",
      "Epoch = 21 : Training Loss = 2.7302765635962244e-5\n",
      "Epoch = 22 : Training Loss = 1.507833784470384e-5\n",
      "Epoch = 23 : Training Loss = 8.405570154486347e-6\n",
      "Epoch = 24 : Training Loss = 4.750675964173148e-6\n",
      "Epoch = 25 : Training Loss = 2.727787804597022e-6\n",
      "Epoch = 26 : Training Loss = 1.591331378459081e-6\n",
      "Epoch = 27 : Training Loss = 9.42734164675052e-7\n",
      "Epoch = 28 : Training Loss = 5.639949189960681e-7\n",
      "Epoch = 29 : Training Loss = 3.383169884383313e-7\n",
      "Epoch = 30 : Training Loss = 2.0084259465310865e-7\n",
      "Epoch = 31 : Training Loss = 1.1524854267274726e-7\n",
      "Epoch = 32 : Training Loss = 6.078147907792344e-8\n",
      "Epoch = 33 : Training Loss = 2.7064226300115896e-8\n",
      "Epoch = 34 : Training Loss = 3.722414418745727e-9\n",
      "Epoch = 35 : Training Loss = -1.1838840053290945e-8\n",
      "Epoch = 36 : Training Loss = -2.4806597840316084e-8\n",
      "Epoch = 37 : Training Loss = -3.2587215183818324e-8\n",
      "Epoch = 38 : Training Loss = -3.7774094210806345e-8\n",
      "Epoch = 39 : Training Loss = -4.036765948628956e-8\n",
      "Epoch = 40 : Training Loss = -4.5554198613956766e-8\n",
      "Epoch = 41 : Training Loss = -4.8147763889455126e-8\n",
      "Epoch = 42 : Training Loss = -4.8147763889455126e-8\n",
      "Epoch = 43 : Training Loss = -5.0740989883900735e-8\n",
      "Epoch = 44 : Training Loss = -5.0740989883900735e-8\n",
      "Epoch = 45 : Training Loss = -5.3334215569209785e-8\n",
      "Epoch = 46 : Training Loss = -5.3334215569209785e-8\n",
      "Epoch = 47 : Training Loss = -5.3334215569209785e-8\n",
      "Epoch = 48 : Training Loss = -5.33343849005769e-8\n",
      "Epoch = 49 : Training Loss = -5.333446956626045e-8\n",
      "Epoch = 50 : Training Loss = -5.592769525156951e-8\n"
     ]
    }
   ],
   "source": [
    "# train model\n",
    "\n",
    "data = Flux.Data.DataLoader((X, Y'), batchsize=100,shuffle=true);\n",
    "\n",
    "loss_history = []\n",
    "\n",
    "epochs = 50\n",
    "\n",
    "for epoch in 1:epochs\n",
    "    # train model\n",
    "    \n",
    "    Flux.train!(loss, ps, [(X, Y')], opt)\n",
    "    \n",
    "    # print report\n",
    "    train_loss = loss(X, Y')\n",
    "    push!(loss_history, train_loss)\n",
    "    println(\"Epoch = $epoch : Training Loss = $train_loss\")\n",
    "end"
   ]
  },
  {
   "cell_type": "code",
   "execution_count": 14,
   "id": "cf7dadd8",
   "metadata": {},
   "outputs": [
    {
     "name": "stdout",
     "output_type": "stream",
     "text": [
      "Accuracy: 0.5"
     ]
    },
    {
     "data": {
      "text/plain": [
       "358400×3 Matrix{Float64}:\n",
       "      1.0  1.0  1.0\n",
       "      2.0  1.0  1.0\n",
       "      3.0  1.0  1.0\n",
       "      4.0  1.0  1.0\n",
       "      5.0  1.0  1.0\n",
       "      6.0  1.0  1.0\n",
       "      7.0  1.0  1.0\n",
       "      8.0  1.0  1.0\n",
       "      9.0  1.0  1.0\n",
       "     10.0  1.0  1.0\n",
       "     11.0  1.0  1.0\n",
       "     12.0  1.0  1.0\n",
       "     13.0  1.0  1.0\n",
       "      ⋮         \n",
       " 358389.0  1.0  0.0\n",
       " 358390.0  1.0  0.0\n",
       " 358391.0  1.0  0.0\n",
       " 358392.0  1.0  0.0\n",
       " 358393.0  1.0  0.0\n",
       " 358394.0  1.0  0.0\n",
       " 358395.0  1.0  0.0\n",
       " 358396.0  1.0  0.0\n",
       " 358397.0  1.0  0.0\n",
       " 358398.0  1.0  0.0\n",
       " 358399.0  1.0  0.0\n",
       " 358400.0  1.0  0.0"
      ]
     },
     "execution_count": 14,
     "metadata": {},
     "output_type": "execute_result"
    }
   ],
   "source": [
    "# make predictions\n",
    "\n",
    "y_hat = model(X_test)\n",
    "y_hat = map(x -> x > 0.5 ? 1 : 0, y_hat)\n",
    "\n",
    "# is the output a column or row vector\n",
    "print(\"Accuracy: \")\n",
    "print(Statistics.mean(y_hat .== Y_test'))\n",
    "\n",
    "# display results\n",
    "\n",
    "index = collect(1:length(Y_test))\n",
    "\n",
    "check_display = [index y_hat' Y_test]\n",
    "\n",
    "check_display\n",
    "\n",
    "# Sensitivity vs Specificity?"
   ]
  },
  {
   "cell_type": "code",
   "execution_count": 8,
   "id": "1229531a",
   "metadata": {},
   "outputs": [],
   "source": [
    "# Change up the layers\n",
    "# Try Min-max normalisation\n",
    "# Try 10-fold"
   ]
  },
  {
   "cell_type": "code",
   "execution_count": null,
   "id": "7cb4af49",
   "metadata": {},
   "outputs": [],
   "source": []
  }
 ],
 "metadata": {
  "kernelspec": {
   "display_name": "Julia 1.8.5",
   "language": "julia",
   "name": "julia-1.8"
  },
  "language_info": {
   "file_extension": ".jl",
   "mimetype": "application/julia",
   "name": "julia",
   "version": "1.8.5"
  }
 },
 "nbformat": 4,
 "nbformat_minor": 5
}
