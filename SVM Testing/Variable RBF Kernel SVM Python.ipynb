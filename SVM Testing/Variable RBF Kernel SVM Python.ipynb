{
 "cells": [
  {
   "cell_type": "code",
   "execution_count": 2,
   "id": "eb3d5213",
   "metadata": {},
   "outputs": [
    {
     "name": "stderr",
     "output_type": "stream",
     "text": [
      "Intel(R) Extension for Scikit-learn* enabled (https://github.com/intel/scikit-learn-intelex)\n"
     ]
    }
   ],
   "source": [
    "import scipy.io\n",
    "import os\n",
    "import glob\n",
    "import pandas as pd\n",
    "import numpy as np\n",
    "import time\n",
    "from sklearn.model_selection import train_test_split\n",
    "from sklearn import datasets\n",
    "from sklearn import svm\n",
    "from sklearn import metrics\n",
    "from sklearn.preprocessing import MinMaxScaler\n",
    "from sklearnex import patch_sklearn \n",
    "import matplotlib.pyplot as plt\n",
    "import seaborn as sns\n",
    "patch_sklearn()"
   ]
  },
  {
   "cell_type": "code",
   "execution_count": 3,
   "id": "a899a0d8",
   "metadata": {},
   "outputs": [],
   "source": [
    "def read_mat_file(filename):\n",
    "    mat = scipy.io.loadmat(filename)\n",
    "    # do something with the contents of the MATLAB file\n",
    "    return mat"
   ]
  },
  {
   "cell_type": "code",
   "execution_count": 4,
   "id": "68e235f6",
   "metadata": {},
   "outputs": [],
   "source": [
    "def read_mat_files(filenames):\n",
    "    data = []\n",
    "    for filename in filenames:\n",
    "        data.append(read_mat_file(filename))\n",
    "    return data"
   ]
  },
  {
   "cell_type": "code",
   "execution_count": 7,
   "id": "b92cad56",
   "metadata": {},
   "outputs": [
    {
     "name": "stdout",
     "output_type": "stream",
     "text": [
      "<class 'dict'>\n",
      "<class 'dict'>\n",
      "<class 'dict'>\n",
      "<class 'dict'>\n",
      "<class 'dict'>\n",
      "<class 'dict'>\n",
      "<class 'dict'>\n",
      "<class 'dict'>\n",
      "<class 'dict'>\n",
      "<class 'dict'>\n",
      "<class 'dict'>\n",
      "<class 'dict'>\n",
      "<class 'dict'>\n",
      "<class 'dict'>\n",
      "<class 'dict'>\n",
      "[{'__header__': b'MATLAB 5.0 MAT-file, Platform: PCWIN64, Created on: Tue Nov 29 16:22:22 2022', '__version__': '1.0', '__globals__': [], 'tfast390m': array([[0.25      , 0.30191652, 1.31543801, ..., 0.52053115, 0.25      ,\n",
      "        0.25      ]])}, {'__header__': b'MATLAB 5.0 MAT-file, Platform: PCWIN64, Created on: Tue Nov 29 16:22:22 2022', '__version__': '1.0', '__globals__': [], 'tslow390m': array([[4.80969176, 4.88590224, 5.97426975, ..., 4.92397759, 4.69734523,\n",
      "        4.55142349]])}, {'__header__': b'MATLAB 5.0 MAT-file, Platform: PCWIN64, Created on: Tue Nov 29 16:22:22 2022', '__version__': '1.0', '__globals__': [], 'LT500m': array([[6.18067317, 6.3444078 , 6.18972428, ..., 5.89685306, 5.73091914,\n",
      "        5.87050418]])}, {'__header__': b'MATLAB 5.0 MAT-file, Platform: PCWIN64, Created on: Tue Nov 29 16:22:22 2022', '__version__': '1.0', '__globals__': [], 'LT452m': array([[5.36108002, 5.44374543, 5.34184668, ..., 5.18547086, 5.17054212,\n",
      "        4.99124933]])}, {'__header__': b'MATLAB 5.0 MAT-file, Platform: PCWIN64, Created on: Tue Nov 29 16:22:22 2022', '__version__': '1.0', '__globals__': [], 'afast390m': array([[0.51280803, 0.48922087, 0.51837136, ..., 0.41973889, 0.42136214,\n",
      "        0.44619213]])}, {'__header__': b'MATLAB 5.0 MAT-file, Platform: PCWIN64, Created on: Tue Nov 29 16:22:22 2022', '__version__': '1.0', '__globals__': [], 'I390m': array([[0.38312075, 0.38204119, 0.38094695, ..., 0.43175435, 0.42782498,\n",
      "        0.42893442]])}, {'__header__': b'MATLAB 5.0 MAT-file, Platform: PCWIN64, Created on: Tue Nov 29 16:22:22 2022', '__version__': '1.0', '__globals__': [], 'tslow500m': array([[ 9.65685299, 10.34903195,  9.71599327, ...,  9.44249569,\n",
      "         9.0838238 ,  9.97660273]])}, {'__header__': b'MATLAB 5.0 MAT-file, Platform: PCWIN64, Created on: Tue Nov 29 16:22:22 2022', '__version__': '1.0', '__globals__': [], 'tslow452m': array([[6.94920863, 7.16803445, 6.97785778, ..., 7.0593825 , 6.88627482,\n",
      "        6.53773694]])}, {'__header__': b'MATLAB 5.0 MAT-file, Platform: PCWIN64, Created on: Tue Nov 29 16:22:22 2022', '__version__': '1.0', '__globals__': [], 'tfast452m': array([[1.32808363, 1.44159294, 1.3683277 , ..., 1.20118063, 1.13663682,\n",
      "        1.05254089]])}, {'__header__': b'MATLAB 5.0 MAT-file, Platform: PCWIN64, Created on: Tue Nov 29 16:22:22 2022', '__version__': '1.0', '__globals__': [], 'tfast500m': array([[2.46514825, 2.65500778, 2.53936391, ..., 1.91305093, 1.98666559,\n",
      "        2.149757  ]])}, {'__header__': b'MATLAB 5.0 MAT-file, Platform: PCWIN64, Created on: Tue Nov 29 16:22:22 2022', '__version__': '1.0', '__globals__': [], 'LT390m': array([[4.33261529, 4.40469775, 4.90440005, ..., 4.4228188 , 4.32395855,\n",
      "        4.15446621]])}, {'__header__': b'MATLAB 5.0 MAT-file, Platform: PCWIN64, Created on: Tue Nov 29 16:22:22 2022', '__version__': '1.0', '__globals__': [], 'I452m': array([[0.39562831, 0.39668427, 0.39805382, ..., 0.35286634, 0.35550415,\n",
      "        0.35786882]])}, {'__header__': b'MATLAB 5.0 MAT-file, Platform: PCWIN64, Created on: Tue Nov 29 16:22:22 2022', '__version__': '1.0', '__globals__': [], 'I500m': array([[0.22125094, 0.22127453, 0.22099923, ..., 0.21537931, 0.21667087,\n",
      "        0.21319677]])}, {'__header__': b'MATLAB 5.0 MAT-file, Platform: PCWIN64, Created on: Tue Nov 29 16:22:22 2022', '__version__': '1.0', '__globals__': [], 'afast452m': array([[0.63090582, 0.64284781, 0.63634588, ..., 0.69690439, 0.67944406,\n",
      "        0.66370692]])}, {'__header__': b'MATLAB 5.0 MAT-file, Platform: PCWIN64, Created on: Tue Nov 29 16:22:22 2022', '__version__': '1.0', '__globals__': [], 'afast500m': array([[0.7653996 , 0.79064228, 0.7670878 , ..., 0.79485555, 0.78326982,\n",
      "        0.81970067]])}]\n",
      "22335\n",
      "SCC: 11085\n",
      "Benign: 11250\n"
     ]
    }
   ],
   "source": [
    "# benign_data_labels = [\"Q1\", \"Q2\", \"Q4\", \"Q5\", \"Q6\", \"Q7\", \"Q9\", \"Q10\", \"Q11\", \"Q13\", \"Q14\", \"Q16\", \"Q20\", \"Q21\", \"Q27\", \"Q34\", \"Q35\", \"Q37\", \"Q38\", \"Q40\", \"Q42\", \"Q43\", \"Q46\", \"Q49\", \"Q50\", \"Q52\", \"Q54\", \"Q56\", \"Q59\", \"Q62\", \"Q63\", \"Q65\", \"Q66\", \"Q67\", \"Q69\"]\n",
    "# Use every 1/4 pixels so we still include every patient\n",
    "benign_data_labels = [\"Q1\"]\n",
    "scc_data_labels = [\"Q3\"]\n",
    "target = []\n",
    "data = []\n",
    "\n",
    "benign_dict = {}\n",
    "normal_dict = {}\n",
    "\n",
    "for label in scc_data_labels:\n",
    "    data_lesion = read_mat_files(glob.glob(\"/Users/byronpetselis/Desktop/Cancer_Data/Yeoh/scc/\" + label + \"_*_lesion*\"))\n",
    "    feat_15 = []\n",
    "    feat_length = 0\n",
    "    \n",
    "    for feature in range(15):\n",
    "        print(type(data_lesion[feature]))\n",
    "        feat_name = list(data_lesion[feature].keys())[3]\n",
    "        # '__header__', '__version__', '__globals__', 'tfast390m' are the key names\n",
    "        feat_vals = data_lesion[feature][feat_name][0]\n",
    "        # get 160x160 1D array associated with key name, [0] to get rid of nesting\n",
    "        feat_15.append(feat_vals)\n",
    "        # appends 160x160 1D array to array of 15 iteratively\n",
    "        feat_length = len(feat_vals)\n",
    "        # get actual length of 160x160 1D array\n",
    "    \n",
    "    feat_reshape = np.reshape(feat_15, (feat_length, 15))\n",
    "    # reshapes (15, 160x160) to (160x160, 15) 2D array\n",
    "    print(data_lesion)\n",
    "    \n",
    "#     target_app = [0] * feat_length\n",
    "#     data.append(feat_reshape)\n",
    "    \n",
    "    for row in range(feat_length):\n",
    "        if row % 2 == 0:\n",
    "            target.append(1)\n",
    "            data.append(feat_reshape[row])\n",
    "\n",
    "for label in benign_data_labels:\n",
    "    data_normal = read_mat_files(glob.glob(\"/Users/byronpetselis/Desktop/Cancer_Data/Yeoh/ben/\" + label + \"_*_lesion*\"))\n",
    "    feat_15 = []\n",
    "    feat_length = 0\n",
    "    \n",
    "    for feature in range(15):\n",
    "        feat_name = list(data_normal[feature].keys())[3]\n",
    "        feat_vals = data_normal[feature][feat_name][0]\n",
    "        feat_15.append(feat_vals)\n",
    "        feat_length = len(feat_vals)\n",
    "    \n",
    "    feat_reshape = np.reshape(feat_15, (feat_length, 15))\n",
    "        \n",
    "    for row in range(feat_length):\n",
    "        if row % 2 == 0:\n",
    "            target.append(0)\n",
    "            data.append(feat_reshape[row])\n",
    "            \n",
    "print(len(data))\n",
    "print(f\"SCC: {target.count(1)}\")\n",
    "print(f\"Benign: {target.count(0)}\")"
   ]
  },
  {
   "cell_type": "code",
   "execution_count": 6,
   "id": "404a22e5",
   "metadata": {},
   "outputs": [],
   "source": [
    "X_train, X_test, Y_train, Y_test = train_test_split(data, target, test_size=0.2, random_state=209)"
   ]
  },
  {
   "cell_type": "code",
   "execution_count": 7,
   "id": "56d21fa3",
   "metadata": {},
   "outputs": [],
   "source": [
    "accuracy = []\n",
    "precision = []\n",
    "recall = []\n",
    "\n",
    "testing_range = np.linspace(0.1,1,20)\n",
    "\n",
    "for gamma_value in testing_range:\n",
    "    cls = svm.SVC(kernel='rbf', gamma=gamma_value, C=1, verbose=1)\n",
    "    cls.fit(X_train, Y_train)\n",
    "    pred = cls.predict(X_test)\n",
    "    accuracy.append(metrics.accuracy_score(Y_test,pred))\n",
    "    # Accuracy: How many were right?\n",
    "    precision.append(metrics.precision_score(Y_test,pred))\n",
    "    # Precision: Out of all '1' predictions, how many were right?\n",
    "    recall.append(metrics.recall_score(Y_test,pred))\n",
    "    # Recall: Out of all '1' truths, how many were right?"
   ]
  },
  {
   "cell_type": "code",
   "execution_count": 8,
   "id": "7c84b869",
   "metadata": {},
   "outputs": [
    {
     "data": {
      "text/plain": [
       "<matplotlib.legend.Legend at 0x7ff3315d50d0>"
      ]
     },
     "execution_count": 8,
     "metadata": {},
     "output_type": "execute_result"
    },
    {
     "data": {
      "image/png": "[encoded data removed]",
      "text/plain": [
       "<Figure size 864x576 with 1 Axes>"
      ]
     },
     "metadata": {
      "needs_background": "light"
     },
     "output_type": "display_data"
    }
   ],
   "source": [
    "plt.figure(figsize=(12, 8))\n",
    "\n",
    "plt.plot(testing_range, accuracy, color='r', label='accuracy')\n",
    "plt.plot(testing_range, precision, color='g', label='precision')\n",
    "plt.plot(testing_range, recall, color='b', label='recall')\n",
    "\n",
    "plt.xlabel(\"RBF Kernel Value\")\n",
    "plt.ylabel(\"Metrics Report\")\n",
    "plt.title(\"Testing Various RBF Values\")\n",
    "\n",
    "plt.legend()"
   ]
  },
  {
   "cell_type": "code",
   "execution_count": null,
   "id": "463bd651",
   "metadata": {},
   "outputs": [],
   "source": []
  },
  {
   "cell_type": "code",
   "execution_count": null,
   "id": "7feae8e3",
   "metadata": {},
   "outputs": [],
   "source": []
  },
  {
   "cell_type": "code",
   "execution_count": null,
   "id": "d88a1312",
   "metadata": {},
   "outputs": [],
   "source": []
  },
  {
   "cell_type": "code",
   "execution_count": null,
   "id": "4284f2d3",
   "metadata": {},
   "outputs": [],
   "source": []
  },
  {
   "cell_type": "code",
   "execution_count": null,
   "id": "5a714640",
   "metadata": {},
   "outputs": [],
   "source": []
  },
  {
   "cell_type": "code",
   "execution_count": null,
   "id": "40681ebd",
   "metadata": {},
   "outputs": [],
   "source": []
  },
  {
   "cell_type": "code",
   "execution_count": null,
   "id": "2cfa0406",
   "metadata": {},
   "outputs": [],
   "source": []
  }
 ],
 "metadata": {
  "kernelspec": {
   "display_name": "Python 3 (ipykernel)",
   "language": "python",
   "name": "python3"
  },
  "language_info": {
   "codemirror_mode": {
    "name": "ipython",
    "version": 3
   },
   "file_extension": ".py",
   "mimetype": "text/x-python",
   "name": "python",
   "nbconvert_exporter": "python",
   "pygments_lexer": "ipython3",
   "version": "3.9.12"
  }
 },
 "nbformat": 4,
 "nbformat_minor": 5
}
