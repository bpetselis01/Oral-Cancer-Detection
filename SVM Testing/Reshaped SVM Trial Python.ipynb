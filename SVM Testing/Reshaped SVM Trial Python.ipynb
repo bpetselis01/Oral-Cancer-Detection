{
 "cells": [
  {
   "cell_type": "code",
   "execution_count": 10,
   "id": "69718663",
   "metadata": {},
   "outputs": [],
   "source": [
    "import scipy.io\n",
    "import os\n",
    "import glob\n",
    "import pandas as pd\n",
    "import numpy as np\n",
    "import time\n",
    "from sklearn.model_selection import train_test_split\n",
    "from sklearn import datasets\n",
    "from sklearn import svm\n",
    "from sklearn import metrics"
   ]
  },
  {
   "cell_type": "code",
   "execution_count": 11,
   "id": "212cf649",
   "metadata": {},
   "outputs": [],
   "source": [
    "def read_mat_file(filename):\n",
    "    mat = scipy.io.loadmat(filename)\n",
    "    # do something with the contents of the MATLAB file\n",
    "    return mat"
   ]
  },
  {
   "cell_type": "code",
   "execution_count": 12,
   "id": "fbe8f93d",
   "metadata": {},
   "outputs": [],
   "source": [
    "def read_mat_files(filenames):\n",
    "    data = []\n",
    "    for filename in filenames:\n",
    "        data.append(read_mat_file(filename))\n",
    "    return data"
   ]
  },
  {
   "cell_type": "code",
   "execution_count": 13,
   "id": "a094ad1f",
   "metadata": {},
   "outputs": [],
   "source": [
    "directory = \"/Users/byronpetselis/Desktop/Cancer_Data/Yeoh/ben\"\n",
    "filenames = [os.path.join(directory, filename) for filename in os.listdir(directory)]"
   ]
  },
  {
   "cell_type": "code",
   "execution_count": 14,
   "id": "c82eec19",
   "metadata": {
    "scrolled": true
   },
   "outputs": [
    {
     "name": "stdout",
     "output_type": "stream",
     "text": [
      "45000\n",
      "15\n",
      "45000\n"
     ]
    }
   ],
   "source": [
    "# benign_data_labels = [\"Q1\", \"Q2\", \"Q4\", \"Q5\", \"Q6\", \"Q7\", \"Q9\", \"Q10\", \"Q11\", \"Q13\", \"Q14\", \"Q16\", \"Q20\", \"Q21\", \"Q27\", \"Q34\", \"Q35\", \"Q37\", \"Q38\", \"Q40\", \"Q42\", \"Q43\", \"Q46\", \"Q49\", \"Q50\", \"Q52\", \"Q54\", \"Q56\", \"Q59\", \"Q62\", \"Q63\", \"Q65\", \"Q66\", \"Q67\", \"Q69\"]\n",
    "benign_data_labels = [\"Q1\"]\n",
    "target = []\n",
    "data = []\n",
    "\n",
    "benign_dict = {}\n",
    "normal_dict = {}\n",
    "\n",
    "\n",
    "for label in benign_data_labels:\n",
    "    data_lesion = read_mat_files(glob.glob(\"/Users/byronpetselis/Desktop/Cancer_Data/Yeoh/ben/\" + label + \"_*_lesion*\"))\n",
    "    feat_15 = []\n",
    "    feat_length = 0\n",
    "    \n",
    "    for feature in range(15):\n",
    "        feat_name = list(data_lesion[feature].keys())[3]\n",
    "        feat_vals = data_lesion[feature][feat_name][0]\n",
    "        # put values into array of 15\n",
    "        feat_15.append(feat_vals)\n",
    "        # get length of data\n",
    "        feat_length = len(feat_vals)\n",
    "    \n",
    "    feat_reshape = np.reshape(feat_15, (feat_length, 15))\n",
    "        \n",
    "    for row in range(feat_length):\n",
    "        target.append(1);\n",
    "        data.append(feat_reshape[row])\n",
    "        \n",
    "    \n",
    "    data_normal = read_mat_files(glob.glob(\"/Users/byronpetselis/Desktop/Cancer_Data/Yeoh/ben/\" + label + \"_*_normal*\"))\n",
    "    feat_15 = []\n",
    "    feat_length = 0\n",
    "    \n",
    "    for feature in range(15):\n",
    "        feat_name = list(data_normal[feature].keys())[3]\n",
    "        feat_vals = data_normal[feature][feat_name][0]\n",
    "        # put values into array of 15\n",
    "        feat_15.append(feat_vals)\n",
    "        # get length of data\n",
    "        feat_length = len(feat_vals)\n",
    "    \n",
    "    feat_reshape = np.reshape(feat_15, (feat_length, 15))\n",
    "        \n",
    "    for row in range(feat_length):\n",
    "        target.append(0);\n",
    "        data.append(feat_reshape[row])\n",
    "        \n",
    "print(len(data))\n",
    "print(len(data[0]))\n",
    "print(len(target))"
   ]
  },
  {
   "cell_type": "code",
   "execution_count": 15,
   "id": "07ea4aa2",
   "metadata": {},
   "outputs": [
    {
     "name": "stdout",
     "output_type": "stream",
     "text": [
      "45000\n",
      "45000\n",
      "31500\n",
      "13500\n",
      "31500\n",
      "13500\n"
     ]
    }
   ],
   "source": [
    "X_train, X_test, Y_train, Y_test = train_test_split(data, target, test_size=0.3, random_state=209)\n",
    "print(len(target))\n",
    "print(len(data))\n",
    "print(len(X_train))\n",
    "print(len(X_test))\n",
    "print(len(Y_train))\n",
    "print(len(Y_test))\n",
    "# Add a progress checker"
   ]
  },
  {
   "cell_type": "code",
   "execution_count": 16,
   "id": "bb85212e",
   "metadata": {},
   "outputs": [],
   "source": [
    "cls = svm.SVC(kernel=\"linear\", C=1, verbose=1)\n",
    "# generate the model"
   ]
  },
  {
   "cell_type": "code",
   "execution_count": 17,
   "id": "3520b765",
   "metadata": {},
   "outputs": [
    {
     "name": "stdout",
     "output_type": "stream",
     "text": [
      "[LibSVM]...............................................................................................................................*...............................................................................*........*...................................................................................................................................................................................................................................\n",
      "Warning: using -h 0 may be faster\n",
      "*.............................................................................................*.........................................................................................*.......................................................................\n",
      "Warning: using -h 0 may be faster\n",
      "*..........................................................................*...................................................................\n",
      "Warning: using -h 0 may be faster\n",
      "*...........................................................*..........................................................................*.......................................................................................................*................................................................................*...............................................................................................................*..........................................................................................................*....................................................................................................*............................................................................*.................................................................*................................................................................................................................................*.....................................................................................*\n",
      "optimization finished, #iter = 1829519\n",
      "obj = -30012.056909, rho = -1.035722\n",
      "nSV = 30021, nBSV = 30005\n",
      "Total nSV = 30021\n"
     ]
    },
    {
     "data": {
      "text/plain": [
       "SVC(C=1, kernel='linear', verbose=1)"
      ]
     },
     "execution_count": 17,
     "metadata": {},
     "output_type": "execute_result"
    }
   ],
   "source": [
    "start = time.time()\n",
    "cls.fit(X_train, Y_train)\n",
    "# train the model"
   ]
  },
  {
   "cell_type": "code",
   "execution_count": 18,
   "id": "bd3a0405",
   "metadata": {},
   "outputs": [
    {
     "name": "stdout",
     "output_type": "stream",
     "text": [
      "80.42774987220764\n"
     ]
    }
   ],
   "source": [
    "pred = cls.predict(X_test)\n",
    "end = time.time()\n",
    "print(end - start)\n",
    "# predict the response"
   ]
  },
  {
   "cell_type": "code",
   "execution_count": 23,
   "id": "9c5ed2d0",
   "metadata": {},
   "outputs": [
    {
     "name": "stdout",
     "output_type": "stream",
     "text": [
      "accuracy: 0.5390370370370371\n",
      "\n",
      "precision: 0.5567895002523978\n",
      "\n",
      "recall: 0.33058594335381386\n",
      "\n",
      "              precision    recall  f1-score   support\n",
      "\n",
      "           0       0.53      0.74      0.62      6827\n",
      "           1       0.56      0.33      0.41      6673\n",
      "\n",
      "    accuracy                           0.54     13500\n",
      "   macro avg       0.54      0.54      0.52     13500\n",
      "weighted avg       0.54      0.54      0.52     13500\n",
      "\n",
      "\n"
     ]
    }
   ],
   "source": [
    "print(\"accuracy:\", metrics.accuracy_score(Y_test,pred))\n",
    "print()\n",
    "print(\"precision:\", metrics.precision_score(Y_test,pred))\n",
    "print()\n",
    "print(\"recall:\", metrics.recall_score(Y_test,pred))\n",
    "print()\n",
    "print(metrics.classification_report(Y_test,pred))\n",
    "print()"
   ]
  },
  {
   "cell_type": "code",
   "execution_count": 20,
   "id": "31cfb49c",
   "metadata": {},
   "outputs": [
    {
     "name": "stdout",
     "output_type": "stream",
     "text": [
      "precision: 0.5567895002523978\n"
     ]
    }
   ],
   "source": [
    "print(\"precision:\", metrics.precision_score(Y_test,pred))"
   ]
  },
  {
   "cell_type": "code",
   "execution_count": 21,
   "id": "62873a66",
   "metadata": {},
   "outputs": [
    {
     "name": "stdout",
     "output_type": "stream",
     "text": [
      "recall: 0.33058594335381386\n"
     ]
    }
   ],
   "source": [
    "print(\"recall:\", metrics.recall_score(Y_test,pred))"
   ]
  },
  {
   "cell_type": "code",
   "execution_count": 22,
   "id": "eb65186f",
   "metadata": {},
   "outputs": [
    {
     "name": "stdout",
     "output_type": "stream",
     "text": [
      "              precision    recall  f1-score   support\n",
      "\n",
      "           0       0.53      0.74      0.62      6827\n",
      "           1       0.56      0.33      0.41      6673\n",
      "\n",
      "    accuracy                           0.54     13500\n",
      "   macro avg       0.54      0.54      0.52     13500\n",
      "weighted avg       0.54      0.54      0.52     13500\n",
      "\n"
     ]
    }
   ],
   "source": [
    "print(metrics.classification_report(Y_test,pred))"
   ]
  },
  {
   "cell_type": "code",
   "execution_count": null,
   "id": "c8cba33b",
   "metadata": {},
   "outputs": [],
   "source": []
  },
  {
   "cell_type": "code",
   "execution_count": null,
   "id": "29ff0241",
   "metadata": {},
   "outputs": [],
   "source": []
  }
 ],
 "metadata": {
  "kernelspec": {
   "display_name": "Python 3 (ipykernel)",
   "language": "python",
   "name": "python3"
  },
  "language_info": {
   "codemirror_mode": {
    "name": "ipython",
    "version": 3
   },
   "file_extension": ".py",
   "mimetype": "text/x-python",
   "name": "python",
   "nbconvert_exporter": "python",
   "pygments_lexer": "ipython3",
   "version": "3.9.12"
  }
 },
 "nbformat": 4,
 "nbformat_minor": 5
}
