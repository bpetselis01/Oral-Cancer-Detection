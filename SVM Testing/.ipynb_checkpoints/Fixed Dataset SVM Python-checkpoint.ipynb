{
 "cells": [
  {
   "cell_type": "code",
   "execution_count": 27,
   "id": "2b71a3b9",
   "metadata": {},
   "outputs": [
    {
     "ename": "ModuleNotFoundError",
     "evalue": "No module named 'mat73'",
     "output_type": "error",
     "traceback": [
      "\u001b[0;31m---------------------------------------------------------------------------\u001b[0m",
      "\u001b[0;31mModuleNotFoundError\u001b[0m                       Traceback (most recent call last)",
      "Input \u001b[0;32mIn [27]\u001b[0m, in \u001b[0;36m<cell line: 7>\u001b[0;34m()\u001b[0m\n\u001b[1;32m      5\u001b[0m \u001b[38;5;28;01mimport\u001b[39;00m \u001b[38;5;21;01mnumpy\u001b[39;00m \u001b[38;5;28;01mas\u001b[39;00m \u001b[38;5;21;01mnp\u001b[39;00m\n\u001b[1;32m      6\u001b[0m \u001b[38;5;28;01mimport\u001b[39;00m \u001b[38;5;21;01mtime\u001b[39;00m\n\u001b[0;32m----> 7\u001b[0m \u001b[38;5;28;01mimport\u001b[39;00m \u001b[38;5;21;01mmat73\u001b[39;00m\n\u001b[1;32m      8\u001b[0m \u001b[38;5;28;01mfrom\u001b[39;00m \u001b[38;5;21;01msklearn\u001b[39;00m\u001b[38;5;21;01m.\u001b[39;00m\u001b[38;5;21;01mmodel_selection\u001b[39;00m \u001b[38;5;28;01mimport\u001b[39;00m train_test_split\n\u001b[1;32m      9\u001b[0m \u001b[38;5;28;01mfrom\u001b[39;00m \u001b[38;5;21;01msklearn\u001b[39;00m \u001b[38;5;28;01mimport\u001b[39;00m datasets\n",
      "\u001b[0;31mModuleNotFoundError\u001b[0m: No module named 'mat73'"
     ]
    }
   ],
   "source": [
    "import scipy.io\n",
    "import os\n",
    "import glob\n",
    "import pandas as pd\n",
    "import numpy as np\n",
    "import time\n",
    "from sklearn.model_selection import train_test_split\n",
    "from sklearn import datasets\n",
    "from sklearn import svm\n",
    "from sklearn import metrics\n",
    "from sklearn.preprocessing import MinMaxScaler\n",
    "from sklearnex import patch_sklearn \n",
    "import matplotlib.pyplot as plt\n",
    "import seaborn as sns\n",
    "patch_sklearn()"
   ]
  },
  {
   "cell_type": "code",
   "execution_count": 28,
   "id": "7604cc1c",
   "metadata": {},
   "outputs": [],
   "source": [
    "def read_mat_file(filename):\n",
    "    mat = scipy.io.loadmat(filename)\n",
    "    # do something with the contents of the MATLAB file\n",
    "    return mat"
   ]
  },
  {
   "cell_type": "code",
   "execution_count": 4,
   "id": "98afc851",
   "metadata": {},
   "outputs": [],
   "source": [
    "def read_mat_files(filenames):\n",
    "    data = []\n",
    "    for filename in filenames:\n",
    "        data.append(read_mat_file(filename))\n",
    "    return data"
   ]
  },
  {
   "cell_type": "code",
   "execution_count": 22,
   "id": "fb1edcbe",
   "metadata": {},
   "outputs": [],
   "source": [
    "# Cancer_data_labels = [\"Q3\", \"Q8\", \"Q12\", \"Q15\", \"Q17\", \"Q22\", \"Q24\", \"Q26\", \"Q28\", \"Q29\",\"Q30\",\"Q31\", \"Q32\",\n",
    "#                       \"Q33\",\"Q36\",\"Q39\",\"Q41\",\"Q44\",\"Q45\",\"Q47\",\"Q48\", \"Q51\",\"Q53\",\"Q55\",\"Q57\",\"Q58\",\"Q61\",\n",
    "#                       \"Q64\",\"Q68\"]\n",
    "Cancer_data_labels = [\"Q3\"]\n",
    "Benign_data_labels = [\"Q1\",\"Q2\",\"Q4\",\"Q5\",\"Q6\",\"Q7\",\"Q9\",\"Q10\",\"Q11\",\"Q13\",\"Q14\",\"Q16\",\"Q20\",\"Q21\", \"Q27\",\n",
    "                      \"Q34\",\"Q35\",\"Q37\",\"Q38\",\"Q40\",\"Q42\",\"Q43\",\"Q46\",\"Q49\",\"Q50\", \"Q52\",\"Q54\",\"Q56\",\"Q59\",\n",
    "                      \"Q62\",\"Q63\",\"Q65\",\"Q66\",\"Q67\",\"Q69\"]"
   ]
  },
  {
   "cell_type": "code",
   "execution_count": 33,
   "id": "16a164a2",
   "metadata": {},
   "outputs": [
    {
     "name": "stdout",
     "output_type": "stream",
     "text": [
      "(25600, 15)\n",
      "[[0.00000000e+00 0.00000000e+00 0.00000000e+00 ... 2.43218784e-01\n",
      "  2.46717609e-01 2.53675672e-01]\n",
      " [2.74370313e-01 4.39723887e-01 2.85905800e-01 ... 7.75282565e-01\n",
      "  7.56571958e-01 8.73568157e-01]\n",
      " [2.96711588e-01 4.20370539e-01 2.82917872e-01 ... 8.79278802e-01\n",
      "  8.16898314e-01 8.00908873e-01]\n",
      " ...\n",
      " [2.83817268e-01 4.18634562e-01 2.97548170e-01 ... 5.37334531e-10\n",
      "  6.78922546e-01 8.59485015e-01]\n",
      " [2.73996258e-01 4.35319117e-01 2.90684624e-01 ... 6.24361072e-01\n",
      "  6.85410685e-01 8.59369673e-01]\n",
      " [2.81397217e-01 4.21658111e-01 2.96944672e-01 ... 4.41345775e-01\n",
      "  7.32536042e-01 8.21054296e-01]]\n",
      "(1,)\n",
      "(160, 160, 15)\n",
      "<class 'dict'>\n",
      "dict_keys(['__header__', '__version__', '__globals__', 'full_feature'])\n"
     ]
    }
   ],
   "source": [
    "target = []\n",
    "data = []\n",
    "\n",
    "benign_dict = {}\n",
    "normal_dict = {}\n",
    "\n",
    "for label in Cancer_data_labels:\n",
    "    data_cancer = read_mat_files(glob.glob(f\"/Users/byronpetselis/Desktop/Cancer_Data/Qatar_Features/{label}_LESION*\"))\n",
    "    original_array = data_cancer[0][\"full_feature\"]    # Replace with your actual array data\n",
    "    original_shape = original_array.shape    # Get the shape of the original array\n",
    "    reshaped_array = original_array.reshape(-1, original_shape[-1])    # Reshape the array to 25600x15\n",
    "    \n",
    "    print(np.shape(reshaped_array))\n",
    "    print(reshaped_array)\n",
    "    \n",
    "    print(np.shape(data_cancer))\n",
    "    print(np.shape(data_cancer[0][\"full_feature\"]))\n",
    "    print(type(data_cancer[0]))\n",
    "    print(data_cancer[0].keys())\n",
    "    \n",
    "    \n",
    "for label in Benign_data_labels:\n",
    "    data_benign = read_mat_files(glob.glob(f\"/Users/byronpetselis/Desktop/Cancer_Data/Qatar_Features/{label}_LESION*\"))\n",
    "#     print(data_benign)\n",
    "\n",
    "\n",
    "data_test = read_mat_files(glob.glob(f\"/Users/byronpetselis/Desktop/Cancer_Data/Qatar_Mask/Q1_LESION_MASK.mat\"))\n",
    "print(data_test[0].keys())\n"
   ]
  },
  {
   "cell_type": "code",
   "execution_count": null,
   "id": "28d3c715",
   "metadata": {},
   "outputs": [],
   "source": []
  }
 ],
 "metadata": {
  "kernelspec": {
   "display_name": "Python 3 (ipykernel)",
   "language": "python",
   "name": "python3"
  },
  "language_info": {
   "codemirror_mode": {
    "name": "ipython",
    "version": 3
   },
   "file_extension": ".py",
   "mimetype": "text/x-python",
   "name": "python",
   "nbconvert_exporter": "python",
   "pygments_lexer": "ipython3",
   "version": "3.9.12"
  }
 },
 "nbformat": 4,
 "nbformat_minor": 5
}
