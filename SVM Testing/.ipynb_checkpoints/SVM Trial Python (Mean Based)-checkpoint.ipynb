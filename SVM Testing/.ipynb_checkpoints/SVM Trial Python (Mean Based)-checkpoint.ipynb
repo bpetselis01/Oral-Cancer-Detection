{
 "cells": [
  {
   "cell_type": "code",
   "execution_count": 55,
   "id": "8313efaf",
   "metadata": {},
   "outputs": [],
   "source": [
    "import scipy.io\n",
    "import os\n",
    "import glob\n",
    "import pandas as pd\n",
    "import numpy as np \n",
    "from sklearn.model_selection import train_test_split\n",
    "from sklearn import datasets\n",
    "from sklearn import svm\n",
    "from sklearn import metrics"
   ]
  },
  {
   "cell_type": "code",
   "execution_count": 56,
   "id": "dc0ed23a",
   "metadata": {},
   "outputs": [],
   "source": [
    "def read_mat_file(filename):\n",
    "    mat = scipy.io.loadmat(filename)\n",
    "    # do something with the contents of the MATLAB file\n",
    "    return mat"
   ]
  },
  {
   "cell_type": "code",
   "execution_count": 57,
   "id": "b8addfca",
   "metadata": {},
   "outputs": [],
   "source": [
    "def read_mat_files(filenames):\n",
    "    data = []\n",
    "    for filename in filenames:\n",
    "        data.append(read_mat_file(filename))\n",
    "    return data"
   ]
  },
  {
   "cell_type": "code",
   "execution_count": null,
   "id": "938048d6",
   "metadata": {},
   "outputs": [],
   "source": []
  },
  {
   "cell_type": "code",
   "execution_count": 58,
   "id": "cdb16f84",
   "metadata": {},
   "outputs": [],
   "source": [
    "directory = \"/Users/byronpetselis/Desktop/Cancer_Data/Yeoh/ben\"\n",
    "filenames = [os.path.join(directory, filename) for filename in os.listdir(directory)]"
   ]
  },
  {
   "cell_type": "code",
   "execution_count": 113,
   "id": "7d430f89",
   "metadata": {},
   "outputs": [],
   "source": [
    "benign_data_labels = [\"Q1\", \"Q2\", \"Q4\", \"Q5\", \"Q6\", \"Q7\", \"Q9\", \"Q10\", \"Q11\", \"Q13\", \"Q14\", \"Q16\", \"Q20\",\n",
    "                      \"Q21\", \"Q27\", \"Q34\"]\n",
    "#                       \"Q21\", \"Q27\", \"Q34\", \"Q35\", \"Q37\", \"Q38\", \"Q40\", \"Q42\", \"Q43\", \"Q46\", \"Q49\", \"Q50\"] \n",
    "#                       \"Q52\", \"Q54\", \"Q56\", \"Q59\", \"Q62\", \"Q63\", \"Q65\", \"Q66\", \"Q67\", \"Q69\"]\n",
    "scc_data_labels = [\"Q3\", \"Q33\",\"Q36\",\"Q39\",\"Q41\",\"Q44\",\"Q45\",\"Q47\",\"Q48\", \"Q51\",\"Q53\",\"Q55\",\"Q57\",\"Q58\",\"Q61\"\n",
    "                    ,\"Q64\",\"Q68\"] \n",
    "target = []\n",
    "data = []\n",
    "\n",
    "benign_dict = {}\n",
    "normal_dict = {}\n",
    "\n",
    "\n",
    "for label in benign_data_labels:\n",
    "    data_lesion = read_mat_files(glob.glob(\"/Users/byronpetselis/Desktop/Cancer_Data/Yeoh/ben/\" + label + \"_*_lesion*\"))\n",
    "    target.append(0);\n",
    "    feat_avg = []\n",
    "    \n",
    "    for feature in range(15):\n",
    "        feat_name = list(data_lesion[feature].keys())[3]\n",
    "        feat_vals = data_lesion[feature][feat_name][0]\n",
    "        feat_mean = np.mean(feat_vals)\n",
    "        feat_avg.append(feat_mean)\n",
    "    \n",
    "    data.append(feat_avg)\n",
    "    \n",
    "#     data_normal = read_mat_files(glob.glob(\"/Users/byronpetselis/Desktop/Cancer_Data/Yeoh/scc/\" + label + \"_*_lesion*\"))\n",
    "#     target.append(1);\n",
    "#     feat_avg = []\n",
    "    \n",
    "#     for feature in range(15):\n",
    "#         feat_name = list(data_normal[feature].keys())[3]\n",
    "#         feat_vals = data_normal[feature][feat_name][0]\n",
    "#         feat_mean = np.mean(feat_vals)\n",
    "#         feat_avg.append(feat_mean)\n",
    "    \n",
    "#     data.append(feat_avg)\n",
    "\n",
    "for label in scc_data_labels:\n",
    "    data_lesion = read_mat_files(glob.glob(\"/Users/byronpetselis/Desktop/Cancer_Data/Yeoh/scc/\" + label + \"_*_lesion*\"))\n",
    "    target.append(1);\n",
    "    feat_avg = []\n",
    "    \n",
    "    for feature in range(15):\n",
    "        feat_name = list(data_lesion[feature].keys())[3]\n",
    "        feat_vals = data_lesion[feature][feat_name][0]\n",
    "        feat_mean = np.mean(feat_vals)\n",
    "        feat_avg.append(feat_mean)\n",
    "    \n",
    "    data.append(feat_avg)\n",
    "    "
   ]
  },
  {
   "cell_type": "code",
   "execution_count": 114,
   "id": "b2856a52",
   "metadata": {},
   "outputs": [],
   "source": [
    "# benign_data_labels = [\"Q1\", \"Q2\", \"Q4\", \"Q5\", \"Q6\", \"Q7\", \"Q9\", \"Q10\", \"Q11\", \"Q13\", \"Q14\", \"Q16\", \"Q20\", \"Q21\", \"Q27\", \"Q34\", \"Q35\", \"Q37\", \"Q38\", \"Q40\", \"Q42\", \"Q43\", \"Q46\", \"Q49\", \"Q50\", \"Q52\", \"Q54\", \"Q56\", \"Q59\", \"Q62\", \"Q63\", \"Q65\", \"Q66\", \"Q67\", \"Q69\"]\n",
    "# benign_feature_labels = []\n",
    "# normal_feature_labels = []\n",
    "# target = []\n",
    "# data = []\n",
    "\n",
    "# benign_dict = {}\n",
    "# normal_dict = {}\n",
    "\n",
    "# # for x in range(1, 70):\n",
    "# #     label = \"Q\" + str(x);\n",
    "# #     print(glob.glob(directory + \"/\" + label + \"_*\"))\n",
    "# #     data_lesion = read_mat_files(glob.glob(directory + \"/\" + label + \"_*\"))\n",
    "\n",
    "# for label in benign_data_labels:\n",
    "# #     data_lesion = read_mat_files(glob.glob(directory + \"/\" + label + \"_*\"))\n",
    "# #     data_normal = read_mat_files(glob.glob(directory + \"/\" + label + \"_*\"))\n",
    "#     data_lesion = read_mat_files(glob.glob(\"/Users/byronpetselis/Desktop/Cancer_Data/ben/\" + label + \"_afast390_lesion*\"))\n",
    "#     target.append(1);\n",
    "    \n",
    "#     arr = data_lesion[0][\"afast390m\"][0];\n",
    "#     data.append(np.mean(arr));\n",
    "#     data_normal = read_mat_files(glob.glob(\"/Users/byronpetselis/Desktop/Cancer_Data/ben/\" + label + \"_afast390_normal*\"))\n",
    "#     target.append(0);\n",
    "#     arr = data_normal[0][\"afast390nm\"][0];\n",
    "#     data.append(np.mean(arr));\n",
    "# #     benign_dict[label] = list(data_lesion[0][\"afast390m\"][0])\n",
    "# #     benign_dict[label] = list(data_lesion)\n",
    "# #     print(data_lesion[0][\"afast390m\"][0])\n",
    "# #     normal_dict[label] = list(data_normal[0][\"afast390nm\"][0])\n",
    "# #     normal_dict[label] = list(data_normal)\n",
    "\n",
    "# print(target)\n",
    "# print(data)\n",
    "# print(len(target))\n",
    "# print(len(data))\n",
    "# print(len(benign_data_labels))\n"
   ]
  },
  {
   "cell_type": "code",
   "execution_count": 115,
   "id": "0fcae840",
   "metadata": {},
   "outputs": [],
   "source": [
    "# benign_data_labels = [\"Q1\", \"Q2\", \"Q4\", \"Q5\", \"Q6\", \"Q7\", \"Q9\", \"Q10\", \"Q11\", \"Q13\", \"Q14\", \"Q16\", \"Q20\", \"Q21\", \"Q27\", \"Q34\", \"Q35\", \"Q37\", \"Q38\", \"Q40\", \"Q42\", \"Q43\", \"Q46\", \"Q49\", \"Q50\", \"Q52\", \"Q54\", \"Q56\", \"Q59\", \"Q62\", \"Q63\", \"Q65\", \"Q66\", \"Q67\", \"Q69\"]\n",
    "# benign_feature_labels = []\n",
    "# normal_feature_labels = []\n",
    "\n",
    "# benign_dict = {}\n",
    "# normal_dict = {}\n",
    "\n",
    "# for label in benign_data_labels:\n",
    "#     data_lesion = read_mat_files(glob.glob(\"/Users/byronpetselis/Desktop/Cancer_Data/ben/\" + label + \"_afast390_lesion*\"))\n",
    "#     data_normal = read_mat_files(glob.glob(\"/Users/byronpetselis/Desktop/Cancer_Data/ben/\" + label + \"_afast390_normal*\"))\n",
    "# #     print(data_normal)\n",
    "# #     print(type(data_normal[0]))\n",
    "# #     print(type(data_normal[0]['afast390nm']))\n",
    "# #     print(data_normal[0]['afast390nm'][0])\n",
    "#     benign_dict[label] = list(data_lesion[0][\"afast390m\"][0])\n",
    "#     normal_dict[label] = list(data_normal[0][\"afast390nm\"][0])\n",
    "# #     print(len(list(data_normal[0][\"afast390nm\"][0])))\n",
    "# #     print(len(list(data_lesion[0][\"afast390m\"][0])))\n",
    "\n",
    "# # print(benign_dict)\n",
    "# print(type(benign_dict))\n",
    "# print(type(benign_dict[\"Q1\"]))\n",
    "# print(type(benign_dict[\"Q1\"][0]))\n",
    "# print(len(benign_dict[\"Q1\"]))\n",
    "# print(len(benign_dict[\"Q4\"]))\n",
    "\n",
    "# data_lesion = {}\n",
    "# data_normal = {}\n",
    "\n",
    "# for label in benign_data_labels:\n",
    "#     data_lesion[label] = list(benign_dict[label].values())\n",
    "#     data_normal[label] = list(normal_dict[label].values())\n",
    "\n",
    "# df_benign = pd.DataFrame(benign_dict)\n",
    "# df_normal = pd.DataFrame(normal_dict)"
   ]
  },
  {
   "cell_type": "code",
   "execution_count": 116,
   "id": "a1f525cb",
   "metadata": {},
   "outputs": [],
   "source": [
    "# b_train, b_test, n_train, n_test = train_test_split(df_benign, df_normal, test_size=0.2, random_state=42)"
   ]
  },
  {
   "cell_type": "code",
   "execution_count": 117,
   "id": "5a4bcee2",
   "metadata": {},
   "outputs": [],
   "source": [
    "X_train, X_test, Y_train, Y_test = train_test_split(data, target, test_size=0.3, random_state=42)"
   ]
  },
  {
   "cell_type": "code",
   "execution_count": 118,
   "id": "c44532f6",
   "metadata": {},
   "outputs": [],
   "source": [
    "cls = svm.SVC(kernel=\"linear\")\n",
    "# generate the model"
   ]
  },
  {
   "cell_type": "code",
   "execution_count": 119,
   "id": "54e6e8e8",
   "metadata": {},
   "outputs": [
    {
     "data": {
      "text/plain": [
       "SVC(kernel='linear')"
      ]
     },
     "execution_count": 119,
     "metadata": {},
     "output_type": "execute_result"
    }
   ],
   "source": [
    "cls.fit(X_train, Y_train)\n",
    "# train the model"
   ]
  },
  {
   "cell_type": "code",
   "execution_count": 120,
   "id": "cdbe4c76",
   "metadata": {},
   "outputs": [
    {
     "name": "stdout",
     "output_type": "stream",
     "text": [
      "[0 1 0 0 0 0 0 1 0 0 1 0 1 0 0 0]\n",
      "[0, 1, 1, 0, 1, 0, 0, 1, 0, 0, 0, 0, 0, 0, 0, 0]\n"
     ]
    }
   ],
   "source": [
    "pred = cls.predict(X_test)\n",
    "print(pred)\n",
    "print(Y_test)\n",
    "# predict the response"
   ]
  },
  {
   "cell_type": "code",
   "execution_count": 121,
   "id": "d4c73f87",
   "metadata": {},
   "outputs": [
    {
     "name": "stdout",
     "output_type": "stream",
     "text": [
      "accuracy: 0.75\n",
      "\n",
      "precision: 0.5\n",
      "\n",
      "recall: 0.5\n",
      "\n",
      "              precision    recall  f1-score   support\n",
      "\n",
      "           0       0.83      0.83      0.83        12\n",
      "           1       0.50      0.50      0.50         4\n",
      "\n",
      "    accuracy                           0.75        16\n",
      "   macro avg       0.67      0.67      0.67        16\n",
      "weighted avg       0.75      0.75      0.75        16\n",
      "\n"
     ]
    }
   ],
   "source": [
    "print(\"accuracy:\", metrics.accuracy_score(Y_test,pred))\n",
    "print()\n",
    "print(\"precision:\", metrics.precision_score(Y_test,pred))\n",
    "print()\n",
    "print(\"recall:\", metrics.recall_score(Y_test,pred))\n",
    "print()\n",
    "print(metrics.classification_report(Y_test,pred))"
   ]
  },
  {
   "cell_type": "code",
   "execution_count": 122,
   "id": "7e6b7ef9",
   "metadata": {},
   "outputs": [
    {
     "name": "stdout",
     "output_type": "stream",
     "text": [
      "precision: 0.5\n"
     ]
    }
   ],
   "source": [
    "print(\"precision:\", metrics.precision_score(Y_test,pred))"
   ]
  },
  {
   "cell_type": "code",
   "execution_count": 123,
   "id": "475768fe",
   "metadata": {},
   "outputs": [
    {
     "name": "stdout",
     "output_type": "stream",
     "text": [
      "recall: 0.5\n"
     ]
    }
   ],
   "source": [
    "print(\"recall:\", metrics.recall_score(Y_test,pred))"
   ]
  },
  {
   "cell_type": "code",
   "execution_count": 124,
   "id": "c505bd35",
   "metadata": {},
   "outputs": [
    {
     "name": "stdout",
     "output_type": "stream",
     "text": [
      "              precision    recall  f1-score   support\n",
      "\n",
      "           0       0.83      0.83      0.83        12\n",
      "           1       0.50      0.50      0.50         4\n",
      "\n",
      "    accuracy                           0.75        16\n",
      "   macro avg       0.67      0.67      0.67        16\n",
      "weighted avg       0.75      0.75      0.75        16\n",
      "\n"
     ]
    }
   ],
   "source": [
    "print(metrics.classification_report(Y_test,pred))"
   ]
  },
  {
   "cell_type": "code",
   "execution_count": null,
   "id": "d7898e57",
   "metadata": {},
   "outputs": [],
   "source": []
  },
  {
   "cell_type": "code",
   "execution_count": null,
   "id": "2afb847b",
   "metadata": {},
   "outputs": [],
   "source": []
  },
  {
   "cell_type": "code",
   "execution_count": null,
   "id": "beb64e2c",
   "metadata": {},
   "outputs": [],
   "source": []
  },
  {
   "cell_type": "code",
   "execution_count": null,
   "id": "6a7b6ccf",
   "metadata": {},
   "outputs": [],
   "source": []
  }
 ],
 "metadata": {
  "kernelspec": {
   "display_name": "Python 3 (ipykernel)",
   "language": "python",
   "name": "python3"
  },
  "language_info": {
   "codemirror_mode": {
    "name": "ipython",
    "version": 3
   },
   "file_extension": ".py",
   "mimetype": "text/x-python",
   "name": "python",
   "nbconvert_exporter": "python",
   "pygments_lexer": "ipython3",
   "version": "3.9.12"
  }
 },
 "nbformat": 4,
 "nbformat_minor": 5
}
