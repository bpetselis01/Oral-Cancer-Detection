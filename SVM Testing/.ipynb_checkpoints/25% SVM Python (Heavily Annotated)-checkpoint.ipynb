{
 "cells": [
  {
   "cell_type": "code",
   "execution_count": 1,
   "id": "f7251376",
   "metadata": {},
   "outputs": [
    {
     "name": "stderr",
     "output_type": "stream",
     "text": [
      "Intel(R) Extension for Scikit-learn* enabled (https://github.com/intel/scikit-learn-intelex)\n"
     ]
    }
   ],
   "source": [
    "import scipy.io\n",
    "import os\n",
    "import glob\n",
    "import pandas as pd\n",
    "import numpy as np\n",
    "import time\n",
    "from sklearn.model_selection import train_test_split\n",
    "from sklearn import datasets\n",
    "from sklearn import svm\n",
    "from sklearn import metrics\n",
    "from sklearn.preprocessing import MinMaxScaler\n",
    "from sklearnex import patch_sklearn\n",
    "import matplotlib.pyplot as plt\n",
    "import seaborn as sns\n",
    "patch_sklearn()"
   ]
  },
  {
   "cell_type": "code",
   "execution_count": 2,
   "id": "99c286ff",
   "metadata": {},
   "outputs": [],
   "source": [
    "def read_mat_file(filename):\n",
    "    mat = scipy.io.loadmat(filename)\n",
    "    # do something with the contents of the MATLAB file\n",
    "    return mat"
   ]
  },
  {
   "cell_type": "code",
   "execution_count": 3,
   "id": "26613893",
   "metadata": {},
   "outputs": [],
   "source": [
    "def read_mat_files(filenames):\n",
    "    data = []\n",
    "    for filename in filenames:\n",
    "        data.append(read_mat_file(filename))\n",
    "    return data"
   ]
  },
  {
   "cell_type": "code",
   "execution_count": 94,
   "id": "250f10c4",
   "metadata": {},
   "outputs": [],
   "source": [
    "# benign_data_labels = [\"Q1\", \"Q2\", \"Q4\", \"Q5\", \"Q6\", \"Q7\", \"Q9\", \"Q10\", \"Q11\", \"Q13\", \"Q14\", \"Q16\", \"Q20\"\n",
    "#                     , \"Q21\", \"Q27\", \"Q34\", \"Q35\", \"Q37\", \"Q38\", \"Q40\", \"Q42\", \"Q43\", \"Q46\", \"Q49\", \"Q50\"\n",
    "#                     , \"Q52\", \"Q54\", \"Q56\", \"Q59\", \"Q62\", \"Q63\", \"Q65\", \"Q66\", \"Q67\", \"Q69\"]\n",
    "# benign_data_labels = [\"Q1\", \"Q2\", \"Q7\", \"Q9\", \"Q10\", \"Q11\", \"Q13\", \"Q14\", \"Q16\", \"Q20\"\n",
    "#                     , \"Q21\", \"Q27\", \"Q34\", \"Q35\", \"Q37\", \"Q38\", \"Q40\", \"Q42\", \"Q43\", \"Q46\", \"Q49\", \"Q50\"\n",
    "#                     , \"Q52\", \"Q54\", \"Q56\", \"Q59\", \"Q62\", \"Q63\", \"Q65\", \"Q66\", \"Q67\", \"Q69\"]\n",
    "# scc_data_labels = [\"Q3\", \"Q8\", \"Q12\", \"Q15\", \"Q17\", \"Q22\", \"Q24\", \"Q26\", \"Q28\", \"Q29\",\"Q30\",\"Q31\", \"Q32\"\n",
    "#                     ,\"Q33\",\"Q36\",\"Q39\",\"Q41\",\"Q44\",\"Q45\",\"Q47\",\"Q48\", \"Q51\",\"Q53\",\"Q55\",\"Q57\",\"Q58\",\"Q61\"\n",
    "#                     ,\"Q64\",\"Q68\"] (from nn_gpu.jl, this list is wrong)\n",
    "scc_data_labels = [\"Q3\", \"Q33\",\"Q36\",\"Q39\",\"Q41\",\"Q44\",\"Q45\",\"Q47\",\"Q48\", \"Q51\",\"Q53\",\"Q55\",\"Q57\",\"Q58\",\"Q61\"\n",
    "                    ,\"Q64\",\"Q68\"] \n",
    "# (Q8 & Q32 have 8 and 7 features respectively for some reason)\n",
    "# Use every 1/4 pixels so we still include every patient\n",
    "benign_data_labels = [\"Q1\", \"Q2\", \"Q7\", \"Q9\", \"Q11\", \"Q13\", \"Q14\", \"Q16\", \"Q20\", \"Q21\", \"Q27\", \"Q34\", \"Q35\", \n",
    "                      \"Q37\", \"Q38\"]"
   ]
  },
  {
   "cell_type": "code",
   "execution_count": 95,
   "id": "c5dcb306",
   "metadata": {
    "scrolled": true
   },
   "outputs": [
    {
     "name": "stdout",
     "output_type": "stream",
     "text": [
      "318919\n",
      "SCC: 158238\n",
      "Benign: 160681\n"
     ]
    }
   ],
   "source": [
    "# benign_data_labels = [\"Q1\", \"Q2\", \"Q4\", \"Q5\", \"Q6\", \"Q7\"]\n",
    "# scc_data_labels = [\"Q8\"]\n",
    "# Q4, Q5, Q6 give bad results for some reason\n",
    "target = []\n",
    "data = []\n",
    "\n",
    "benign_dict = {}\n",
    "normal_dict = {}\n",
    "\n",
    "\n",
    "for label in benign_data_labels:\n",
    "    data_lesion = read_mat_files(glob.glob(\"/Users/byronpetselis/Desktop/Cancer_Data/Yeoh/ben/\" + label + \"_*_lesion*\"))\n",
    "    feat_15 = []\n",
    "    feat_length = 0\n",
    "    \n",
    "    for feature in range(15):\n",
    "        feat_name = list(data_lesion[feature].keys())[3]\n",
    "        # '__header__', '__version__', '__globals__', 'tfast390m' are the key names\n",
    "        feat_vals = data_lesion[feature][feat_name][0]\n",
    "        # get 160x160 1D array associated with key name, [0] to get rid of nesting\n",
    "        feat_15.append(feat_vals)\n",
    "        # appends 160x160 1D array to array of 15 iteratively\n",
    "        feat_length = len(feat_vals)\n",
    "        # get actual length of 160x160 1D array\n",
    "    \n",
    "    feat_reshape = np.reshape(feat_15, (feat_length, 15))\n",
    "    # reshapes (15, 160x160) to (160x160, 15) 2D array\n",
    "    \n",
    "#     target_app = [0] * feat_length\n",
    "#     data.append(feat_reshape)\n",
    "    \n",
    "    for row in range(feat_length):\n",
    "        if row % 2 == 0:\n",
    "            target.append(1)\n",
    "            data.append(feat_reshape[row])\n",
    "\n",
    "for label in benign_data_labels:\n",
    "    data_normal = read_mat_files(glob.glob(\"/Users/byronpetselis/Desktop/Cancer_Data/Yeoh/ben/\" + label + \"_*_normal*\"))\n",
    "    feat_15 = []\n",
    "    feat_length = 0\n",
    "    \n",
    "    for feature in range(15):\n",
    "        feat_name = list(data_normal[feature].keys())[3]\n",
    "        feat_vals = data_normal[feature][feat_name][0]\n",
    "        feat_15.append(feat_vals)\n",
    "        feat_length = len(feat_vals)\n",
    "    \n",
    "    feat_reshape = np.reshape(feat_15, (feat_length, 15))\n",
    "        \n",
    "    for row in range(feat_length):\n",
    "        if row % 2 == 0:\n",
    "            target.append(0)\n",
    "            data.append(feat_reshape[row])\n",
    "            \n",
    "print(len(data))\n",
    "print(f\"SCC: {target.count(1)}\")\n",
    "print(f\"Benign: {target.count(0)}\")"
   ]
  },
  {
   "cell_type": "code",
   "execution_count": 96,
   "id": "09648f32",
   "metadata": {},
   "outputs": [
    {
     "name": "stdout",
     "output_type": "stream",
     "text": [
      "<class 'list'>\n",
      "<class 'list'>\n",
      "Cancer: 158238\n",
      "Benign: 160681\n",
      "Any Nan?: False\n",
      "Any Inf?: False\n",
      "Any NegInf?: False\n",
      "232358.10778177824\n",
      "-11.07772779076678\n"
     ]
    }
   ],
   "source": [
    "# Error Checking\n",
    "\n",
    "print(type(data))\n",
    "print(type(target))\n",
    "print(f\"Cancer: {target.count(1)}\")\n",
    "print(f\"Benign: {target.count(0)}\")\n",
    "print(f\"Any Nan?: {np.any(np.isnan(data))}\")\n",
    "print(f\"Any Inf?: {np.any(np.isinf(data))}\")\n",
    "print(f\"Any NegInf?: {np.any(np.isneginf(data))}\")\n",
    "print(np.max(data))\n",
    "print(np.min(data))\n",
    "# print(np.sum(value > 100 for row in data for value in row))\n",
    "\n",
    "for row in data:\n",
    "    for value in row:\n",
    "        if not np.issubdtype(type(value), np.float64):\n",
    "            print(\"Non-Integer Exists\")"
   ]
  },
  {
   "cell_type": "code",
   "execution_count": 97,
   "id": "c3e7151c",
   "metadata": {},
   "outputs": [],
   "source": [
    "# Attempt to Remove Outliers\n",
    "\n",
    "def replace_outliers_with_mean(data, threshold=3):\n",
    "    # Calculate mean and standard deviation of the data\n",
    "    mean = np.mean(data)\n",
    "    std = np.std(data)\n",
    "\n",
    "    # Calculate z-scores for each data point\n",
    "    z_scores = np.abs((data - mean) / std)\n",
    "    \n",
    "    outliers = np.where(z_scores > threshold)\n",
    "\n",
    "    for index in range(len(outliers[0])):\n",
    "        row = outliers[0][index]\n",
    "        col = outliers[1][index]\n",
    "        data[row][col] = mean\n",
    "\n",
    "    return data"
   ]
  },
  {
   "cell_type": "code",
   "execution_count": 98,
   "id": "699b91c8",
   "metadata": {},
   "outputs": [],
   "source": [
    "new_data = replace_outliers_with_mean(data)"
   ]
  },
  {
   "cell_type": "code",
   "execution_count": 99,
   "id": "006ebce0",
   "metadata": {},
   "outputs": [],
   "source": [
    "# 30000 samples takes 88 seconds (w/ outliers)\n",
    "# 30000 samples takes 60 seconds (w/o outliers) (Very inconsistent, took 2 seconds once)\n",
    "# 60000 samples takes 332 seconds\n",
    "# 120000 samples takes >2500 seconds (didn't finish)\n",
    "# 320000 samples takes 169 seconds\n",
    "# 640000 samples takes 417 seconds"
   ]
  },
  {
   "cell_type": "code",
   "execution_count": null,
   "id": "9f53fb5b",
   "metadata": {},
   "outputs": [],
   "source": []
  },
  {
   "cell_type": "code",
   "execution_count": 100,
   "id": "7ac3ba61",
   "metadata": {},
   "outputs": [],
   "source": [
    "X_train, X_test, Y_train, Y_test = train_test_split(data, target, test_size=0.8, random_state=209)"
   ]
  },
  {
   "cell_type": "code",
   "execution_count": 101,
   "id": "92a687c8",
   "metadata": {},
   "outputs": [
    {
     "data": {
      "text/plain": [
       "True"
      ]
     },
     "execution_count": 101,
     "metadata": {},
     "output_type": "execute_result"
    }
   ],
   "source": [
    "np.isfinite(X_train).all()"
   ]
  },
  {
   "cell_type": "code",
   "execution_count": 102,
   "id": "64bebe19",
   "metadata": {},
   "outputs": [],
   "source": [
    "cls = svm.SVC(kernel=\"linear\", C=1, verbose=1)\n",
    "# generate the model"
   ]
  },
  {
   "cell_type": "code",
   "execution_count": 103,
   "id": "ba4b9892",
   "metadata": {},
   "outputs": [
    {
     "data": {
      "text/plain": [
       "SVC(C=1, kernel='linear', verbose=1)"
      ]
     },
     "execution_count": 103,
     "metadata": {},
     "output_type": "execute_result"
    }
   ],
   "source": [
    "start = time.time()\n",
    "cls.fit(X_train, Y_train)\n",
    "# train the model"
   ]
  },
  {
   "cell_type": "code",
   "execution_count": 104,
   "id": "3d36fa63",
   "metadata": {},
   "outputs": [
    {
     "name": "stdout",
     "output_type": "stream",
     "text": [
      "217.02362489700317\n"
     ]
    }
   ],
   "source": [
    "pred = cls.predict(X_test)\n",
    "end = time.time()\n",
    "print(end - start)\n",
    "# predict the response"
   ]
  },
  {
   "cell_type": "code",
   "execution_count": 105,
   "id": "d1cf92c9",
   "metadata": {},
   "outputs": [
    {
     "name": "stdout",
     "output_type": "stream",
     "text": [
      "20127\n"
     ]
    }
   ],
   "source": [
    "print(np.count_nonzero(pred))\n",
    "# Compare prediction made from X_test to the correct values (Y_test)"
   ]
  },
  {
   "cell_type": "code",
   "execution_count": null,
   "id": "d3b86488",
   "metadata": {},
   "outputs": [],
   "source": []
  },
  {
   "cell_type": "code",
   "execution_count": null,
   "id": "de2ef38d",
   "metadata": {},
   "outputs": [],
   "source": []
  },
  {
   "cell_type": "code",
   "execution_count": 106,
   "id": "b8cbf151",
   "metadata": {},
   "outputs": [
    {
     "name": "stdout",
     "output_type": "stream",
     "text": [
      "accuracy: 0.5156191207826414\n",
      "\n",
      "precision: 0.5748000198738014\n",
      "\n",
      "recall: 0.09138663759735849\n",
      "\n",
      "              precision    recall  f1-score   support\n",
      "\n",
      "           0       0.51      0.93      0.66    128542\n",
      "           1       0.57      0.09      0.16    126594\n",
      "\n",
      "    accuracy                           0.52    255136\n",
      "   macro avg       0.54      0.51      0.41    255136\n",
      "weighted avg       0.54      0.52      0.41    255136\n",
      "\n"
     ]
    }
   ],
   "source": [
    "print(\"accuracy:\", metrics.accuracy_score(Y_test,pred))\n",
    "print()\n",
    "print(\"precision:\", metrics.precision_score(Y_test,pred))\n",
    "print()\n",
    "print(\"recall:\", metrics.recall_score(Y_test,pred))\n",
    "print()\n",
    "print(metrics.classification_report(Y_test,pred))"
   ]
  },
  {
   "cell_type": "code",
   "execution_count": null,
   "id": "3e0e70cc",
   "metadata": {},
   "outputs": [],
   "source": [
    "# Possible Problems\n",
    "    # Unscaled Features\n",
    "    # Improper Hyperparameters\n",
    "    # Data Imbalance? 58959 vs 65038 is pretty decent though\n",
    "    # Convergence Issues"
   ]
  },
  {
   "cell_type": "code",
   "execution_count": null,
   "id": "9c43530f",
   "metadata": {},
   "outputs": [],
   "source": []
  },
  {
   "cell_type": "code",
   "execution_count": null,
   "id": "2bf8876b",
   "metadata": {},
   "outputs": [],
   "source": []
  },
  {
   "cell_type": "code",
   "execution_count": null,
   "id": "34cfb432",
   "metadata": {},
   "outputs": [],
   "source": []
  },
  {
   "cell_type": "code",
   "execution_count": null,
   "id": "160f1e67",
   "metadata": {},
   "outputs": [],
   "source": []
  },
  {
   "cell_type": "code",
   "execution_count": null,
   "id": "9c200d0f",
   "metadata": {},
   "outputs": [],
   "source": []
  },
  {
   "cell_type": "code",
   "execution_count": null,
   "id": "cf7a7ca3",
   "metadata": {},
   "outputs": [],
   "source": []
  },
  {
   "cell_type": "code",
   "execution_count": null,
   "id": "cb824c6b",
   "metadata": {},
   "outputs": [],
   "source": []
  },
  {
   "cell_type": "code",
   "execution_count": null,
   "id": "6cce4919",
   "metadata": {},
   "outputs": [],
   "source": []
  },
  {
   "cell_type": "code",
   "execution_count": null,
   "id": "f5b90c1a",
   "metadata": {},
   "outputs": [],
   "source": []
  }
 ],
 "metadata": {
  "kernelspec": {
   "display_name": "Python 3 (ipykernel)",
   "language": "python",
   "name": "python3"
  },
  "language_info": {
   "codemirror_mode": {
    "name": "ipython",
    "version": 3
   },
   "file_extension": ".py",
   "mimetype": "text/x-python",
   "name": "python",
   "nbconvert_exporter": "python",
   "pygments_lexer": "ipython3",
   "version": "3.9.12"
  }
 },
 "nbformat": 4,
 "nbformat_minor": 5
}
