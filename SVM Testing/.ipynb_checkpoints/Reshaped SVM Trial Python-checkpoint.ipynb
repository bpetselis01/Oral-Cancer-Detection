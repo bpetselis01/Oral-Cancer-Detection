{
 "cells": [
  {
   "cell_type": "code",
   "execution_count": 6,
   "id": "69718663",
   "metadata": {},
   "outputs": [],
   "source": [
    "import scipy.io\n",
    "import os\n",
    "import glob\n",
    "import pandas as pd\n",
    "import numpy as np\n",
    "import time\n",
    "from sklearn.model_selection import train_test_split\n",
    "from sklearn import datasets\n",
    "from sklearn import svm\n",
    "from sklearn import metrics"
   ]
  },
  {
   "cell_type": "code",
   "execution_count": 7,
   "id": "212cf649",
   "metadata": {},
   "outputs": [],
   "source": [
    "def read_mat_file(filename):\n",
    "    mat = scipy.io.loadmat(filename)\n",
    "    # do something with the contents of the MATLAB file\n",
    "    return mat"
   ]
  },
  {
   "cell_type": "code",
   "execution_count": 8,
   "id": "fbe8f93d",
   "metadata": {},
   "outputs": [],
   "source": [
    "def read_mat_files(filenames):\n",
    "    data = []\n",
    "    for filename in filenames:\n",
    "        data.append(read_mat_file(filename))\n",
    "    return data"
   ]
  },
  {
   "cell_type": "code",
   "execution_count": 9,
   "id": "a094ad1f",
   "metadata": {},
   "outputs": [
    {
     "ename": "FileNotFoundError",
     "evalue": "[Errno 2] No such file or directory: '/Users/byronpetselis/Desktop/Cancer_Data/ben'",
     "output_type": "error",
     "traceback": [
      "\u001b[0;31m---------------------------------------------------------------------------\u001b[0m",
      "\u001b[0;31mFileNotFoundError\u001b[0m                         Traceback (most recent call last)",
      "Input \u001b[0;32mIn [9]\u001b[0m, in \u001b[0;36m<cell line: 2>\u001b[0;34m()\u001b[0m\n\u001b[1;32m      1\u001b[0m directory \u001b[38;5;241m=\u001b[39m \u001b[38;5;124m\"\u001b[39m\u001b[38;5;124m/Users/byronpetselis/Desktop/Cancer_Data/ben\u001b[39m\u001b[38;5;124m\"\u001b[39m\n\u001b[0;32m----> 2\u001b[0m filenames \u001b[38;5;241m=\u001b[39m [os\u001b[38;5;241m.\u001b[39mpath\u001b[38;5;241m.\u001b[39mjoin(directory, filename) \u001b[38;5;28;01mfor\u001b[39;00m filename \u001b[38;5;129;01min\u001b[39;00m \u001b[43mos\u001b[49m\u001b[38;5;241;43m.\u001b[39;49m\u001b[43mlistdir\u001b[49m\u001b[43m(\u001b[49m\u001b[43mdirectory\u001b[49m\u001b[43m)\u001b[49m]\n",
      "\u001b[0;31mFileNotFoundError\u001b[0m: [Errno 2] No such file or directory: '/Users/byronpetselis/Desktop/Cancer_Data/ben'"
     ]
    }
   ],
   "source": [
    "directory = \"/Users/byronpetselis/Desktop/Cancer_Data/Yeoh/ben\"\n",
    "filenames = [os.path.join(directory, filename) for filename in os.listdir(directory)]"
   ]
  },
  {
   "cell_type": "code",
   "execution_count": null,
   "id": "c82eec19",
   "metadata": {
    "scrolled": true
   },
   "outputs": [],
   "source": [
    "# benign_data_labels = [\"Q1\", \"Q2\", \"Q4\", \"Q5\", \"Q6\", \"Q7\", \"Q9\", \"Q10\", \"Q11\", \"Q13\", \"Q14\", \"Q16\", \"Q20\", \"Q21\", \"Q27\", \"Q34\", \"Q35\", \"Q37\", \"Q38\", \"Q40\", \"Q42\", \"Q43\", \"Q46\", \"Q49\", \"Q50\", \"Q52\", \"Q54\", \"Q56\", \"Q59\", \"Q62\", \"Q63\", \"Q65\", \"Q66\", \"Q67\", \"Q69\"]\n",
    "benign_data_labels = [\"Q1\"]\n",
    "target = []\n",
    "data = []\n",
    "\n",
    "benign_dict = {}\n",
    "normal_dict = {}\n",
    "\n",
    "\n",
    "for label in benign_data_labels:\n",
    "    data_lesion = read_mat_files(glob.glob(\"/Users/byronpetselis/Desktop/Cancer_Data/Yeoh/ben/\" + label + \"_*_lesion*\"))\n",
    "    feat_15 = []\n",
    "    feat_length = 0\n",
    "    \n",
    "    for feature in range(15):\n",
    "        feat_name = list(data_lesion[feature].keys())[3]\n",
    "        feat_vals = data_lesion[feature][feat_name][0]\n",
    "        # put values into array of 15\n",
    "        feat_15.append(feat_vals)\n",
    "        # get length of data\n",
    "        feat_length = len(feat_vals)\n",
    "    \n",
    "    feat_reshape = np.reshape(feat_15, (feat_length, 15))\n",
    "        \n",
    "    for row in range(feat_length):\n",
    "        target.append(1);\n",
    "        data.append(feat_reshape[row])\n",
    "        \n",
    "    \n",
    "    data_normal = read_mat_files(glob.glob(\"/Users/byronpetselis/Desktop/Cancer_Data/Yeoh/ben/\" + label + \"_*_normal*\"))\n",
    "    feat_15 = []\n",
    "    feat_length = 0\n",
    "    \n",
    "    for feature in range(15):\n",
    "        feat_name = list(data_normal[feature].keys())[3]\n",
    "        feat_vals = data_normal[feature][feat_name][0]\n",
    "        # put values into array of 15\n",
    "        feat_15.append(feat_vals)\n",
    "        # get length of data\n",
    "        feat_length = len(feat_vals)\n",
    "    \n",
    "    feat_reshape = np.reshape(feat_15, (feat_length, 15))\n",
    "        \n",
    "    for row in range(feat_length):\n",
    "        target.append(0);\n",
    "        data.append(feat_reshape[row])\n",
    "        \n",
    "print(len(data))\n",
    "print(len(data[0]))\n",
    "print(len(target))"
   ]
  },
  {
   "cell_type": "code",
   "execution_count": null,
   "id": "07ea4aa2",
   "metadata": {},
   "outputs": [],
   "source": [
    "X_train, X_test, Y_train, Y_test = train_test_split(data, target, test_size=0.3, random_state=209)\n",
    "print(len(target))\n",
    "print(len(data))\n",
    "print(len(X_train))\n",
    "print(len(X_test))\n",
    "print(len(Y_train))\n",
    "print(len(Y_test))\n",
    "# Add a progress checker"
   ]
  },
  {
   "cell_type": "code",
   "execution_count": 3,
   "id": "bb85212e",
   "metadata": {},
   "outputs": [
    {
     "ename": "NameError",
     "evalue": "name 'svm' is not defined",
     "output_type": "error",
     "traceback": [
      "\u001b[0;31m---------------------------------------------------------------------------\u001b[0m",
      "\u001b[0;31mNameError\u001b[0m                                 Traceback (most recent call last)",
      "Input \u001b[0;32mIn [3]\u001b[0m, in \u001b[0;36m<cell line: 1>\u001b[0;34m()\u001b[0m\n\u001b[0;32m----> 1\u001b[0m \u001b[38;5;28mcls\u001b[39m \u001b[38;5;241m=\u001b[39m \u001b[43msvm\u001b[49m\u001b[38;5;241m.\u001b[39mSVC(kernel\u001b[38;5;241m=\u001b[39m\u001b[38;5;124m\"\u001b[39m\u001b[38;5;124mlinear\u001b[39m\u001b[38;5;124m\"\u001b[39m, C\u001b[38;5;241m=\u001b[39m\u001b[38;5;241m1\u001b[39m, verbose\u001b[38;5;241m=\u001b[39m\u001b[38;5;241m1\u001b[39m)\n",
      "\u001b[0;31mNameError\u001b[0m: name 'svm' is not defined"
     ]
    }
   ],
   "source": [
    "cls = svm.SVC(kernel=\"linear\", C=1, verbose=1)\n",
    "# generate the model"
   ]
  },
  {
   "cell_type": "code",
   "execution_count": 4,
   "id": "3520b765",
   "metadata": {},
   "outputs": [
    {
     "ename": "NameError",
     "evalue": "name 'time' is not defined",
     "output_type": "error",
     "traceback": [
      "\u001b[0;31m---------------------------------------------------------------------------\u001b[0m",
      "\u001b[0;31mNameError\u001b[0m                                 Traceback (most recent call last)",
      "Input \u001b[0;32mIn [4]\u001b[0m, in \u001b[0;36m<cell line: 1>\u001b[0;34m()\u001b[0m\n\u001b[0;32m----> 1\u001b[0m start \u001b[38;5;241m=\u001b[39m \u001b[43mtime\u001b[49m\u001b[38;5;241m.\u001b[39mtime()\n\u001b[1;32m      2\u001b[0m \u001b[38;5;28mcls\u001b[39m\u001b[38;5;241m.\u001b[39mfit(X_train, Y_train)\n",
      "\u001b[0;31mNameError\u001b[0m: name 'time' is not defined"
     ]
    }
   ],
   "source": [
    "start = time.time()\n",
    "cls.fit(X_train, Y_train)\n",
    "# train the model"
   ]
  },
  {
   "cell_type": "code",
   "execution_count": 5,
   "id": "bd3a0405",
   "metadata": {},
   "outputs": [
    {
     "ename": "NameError",
     "evalue": "name 'cls' is not defined",
     "output_type": "error",
     "traceback": [
      "\u001b[0;31m---------------------------------------------------------------------------\u001b[0m",
      "\u001b[0;31mNameError\u001b[0m                                 Traceback (most recent call last)",
      "Input \u001b[0;32mIn [5]\u001b[0m, in \u001b[0;36m<cell line: 1>\u001b[0;34m()\u001b[0m\n\u001b[0;32m----> 1\u001b[0m pred \u001b[38;5;241m=\u001b[39m \u001b[38;5;28;43mcls\u001b[39;49m\u001b[38;5;241m.\u001b[39mpredict(X_test)\n\u001b[1;32m      2\u001b[0m end \u001b[38;5;241m=\u001b[39m time\u001b[38;5;241m.\u001b[39mtime()\n\u001b[1;32m      3\u001b[0m \u001b[38;5;28mprint\u001b[39m(end \u001b[38;5;241m-\u001b[39m start)\n",
      "\u001b[0;31mNameError\u001b[0m: name 'cls' is not defined"
     ]
    }
   ],
   "source": [
    "pred = cls.predict(X_test)\n",
    "end = time.time()\n",
    "print(end - start)\n",
    "# predict the response"
   ]
  },
  {
   "cell_type": "code",
   "execution_count": null,
   "id": "9c5ed2d0",
   "metadata": {},
   "outputs": [],
   "source": [
    "print(\"accuracy:\", metrics.accuracy_score(Y_test,pred))\n",
    "# Compare prediction made from X_test to the correct values (Y_test)"
   ]
  },
  {
   "cell_type": "code",
   "execution_count": null,
   "id": "31cfb49c",
   "metadata": {},
   "outputs": [],
   "source": [
    "print(\"precision:\", metrics.precision_score(Y_test,pred))"
   ]
  },
  {
   "cell_type": "code",
   "execution_count": null,
   "id": "62873a66",
   "metadata": {},
   "outputs": [],
   "source": [
    "print(\"recall:\", metrics.recall_score(Y_test,pred))"
   ]
  },
  {
   "cell_type": "code",
   "execution_count": null,
   "id": "eb65186f",
   "metadata": {},
   "outputs": [],
   "source": [
    "print(metrics.classification_report(Y_test,pred))"
   ]
  },
  {
   "cell_type": "code",
   "execution_count": null,
   "id": "c8cba33b",
   "metadata": {},
   "outputs": [],
   "source": []
  },
  {
   "cell_type": "code",
   "execution_count": null,
   "id": "29ff0241",
   "metadata": {},
   "outputs": [],
   "source": []
  }
 ],
 "metadata": {
  "kernelspec": {
   "display_name": "Python 3 (ipykernel)",
   "language": "python",
   "name": "python3"
  },
  "language_info": {
   "codemirror_mode": {
    "name": "ipython",
    "version": 3
   },
   "file_extension": ".py",
   "mimetype": "text/x-python",
   "name": "python",
   "nbconvert_exporter": "python",
   "pygments_lexer": "ipython3",
   "version": "3.9.12"
  }
 },
 "nbformat": 4,
 "nbformat_minor": 5
}
