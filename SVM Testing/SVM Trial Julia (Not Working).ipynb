{
 "cells": [
  {
   "cell_type": "code",
   "execution_count": 11,
   "id": "38e932a7",
   "metadata": {
    "scrolled": true
   },
   "outputs": [
    {
     "name": "stderr",
     "output_type": "stream",
     "text": [
      "\u001b[32m\u001b[1m   Resolving\u001b[22m\u001b[39m package versions...\n",
      "\u001b[32m\u001b[1m  No Changes\u001b[22m\u001b[39m to `~/.julia/environments/v1.8/Project.toml`\n",
      "\u001b[32m\u001b[1m  No Changes\u001b[22m\u001b[39m to `~/.julia/environments/v1.8/Manifest.toml`\n",
      "\u001b[32m\u001b[1m   Resolving\u001b[22m\u001b[39m package versions...\n",
      "\u001b[32m\u001b[1m  No Changes\u001b[22m\u001b[39m to `~/.julia/environments/v1.8/Project.toml`\n",
      "\u001b[32m\u001b[1m  No Changes\u001b[22m\u001b[39m to `~/.julia/environments/v1.8/Manifest.toml`\n",
      "\u001b[32m\u001b[1m   Resolving\u001b[22m\u001b[39m package versions...\n",
      "\u001b[32m\u001b[1m  No Changes\u001b[22m\u001b[39m to `~/.julia/environments/v1.8/Project.toml`\n",
      "\u001b[32m\u001b[1m  No Changes\u001b[22m\u001b[39m to `~/.julia/environments/v1.8/Manifest.toml`\n",
      "\u001b[32m\u001b[1m   Resolving\u001b[22m\u001b[39m package versions...\n",
      "\u001b[32m\u001b[1m  No Changes\u001b[22m\u001b[39m to `~/.julia/environments/v1.8/Project.toml`\n",
      "\u001b[32m\u001b[1m  No Changes\u001b[22m\u001b[39m to `~/.julia/environments/v1.8/Manifest.toml`\n",
      "\u001b[32m\u001b[1m   Resolving\u001b[22m\u001b[39m package versions...\n",
      "\u001b[32m\u001b[1m  No Changes\u001b[22m\u001b[39m to `~/.julia/environments/v1.8/Project.toml`\n",
      "\u001b[32m\u001b[1m  No Changes\u001b[22m\u001b[39m to `~/.julia/environments/v1.8/Manifest.toml`\n",
      "\u001b[32m\u001b[1m   Resolving\u001b[22m\u001b[39m package versions...\n",
      "\u001b[32m\u001b[1m  No Changes\u001b[22m\u001b[39m to `~/.julia/environments/v1.8/Project.toml`\n",
      "\u001b[32m\u001b[1m  No Changes\u001b[22m\u001b[39m to `~/.julia/environments/v1.8/Manifest.toml`\n",
      "\u001b[32m\u001b[1m   Resolving\u001b[22m\u001b[39m package versions...\n",
      "\u001b[32m\u001b[1m  No Changes\u001b[22m\u001b[39m to `~/.julia/environments/v1.8/Project.toml`\n",
      "\u001b[32m\u001b[1m  No Changes\u001b[22m\u001b[39m to `~/.julia/environments/v1.8/Manifest.toml`\n",
      "\u001b[32m\u001b[1m   Resolving\u001b[22m\u001b[39m package versions...\n",
      "\u001b[32m\u001b[1m  No Changes\u001b[22m\u001b[39m to `~/.julia/environments/v1.8/Project.toml`\n",
      "\u001b[32m\u001b[1m  No Changes\u001b[22m\u001b[39m to `~/.julia/environments/v1.8/Manifest.toml`\n",
      "\u001b[32m\u001b[1m   Resolving\u001b[22m\u001b[39m package versions...\n",
      "\u001b[32m\u001b[1m  No Changes\u001b[22m\u001b[39m to `~/.julia/environments/v1.8/Project.toml`\n",
      "\u001b[32m\u001b[1m  No Changes\u001b[22m\u001b[39m to `~/.julia/environments/v1.8/Manifest.toml`\n"
     ]
    }
   ],
   "source": [
    "using Pkg\n",
    "Pkg.add(\"FileIO\")\n",
    "Pkg.add(\"MAT\")\n",
    "Pkg.add(\"Plots\")\n",
    "Pkg.add(\"Glob\")\n",
    "Pkg.add(\"Flux\")\n",
    "Pkg.add(\"MLDataUtils\")\n",
    "Pkg.add(\"LIBSVM\")\n",
    "Pkg.add(\"ScikitLearn\")\n",
    "Pkg.add(\"DataFrames\")\n",
    "using FileIO, MAT, Plots, Glob, Statistics, MLDataUtils, LIBSVM, DataFrames\n",
    "using ScikitLearn\n",
    "using ScikitLearn.CrossValidation: train_test_split\n",
    "using ScikitLearn.Utils: meshgrid"
   ]
  },
  {
   "cell_type": "code",
   "execution_count": null,
   "id": "b9dfe170",
   "metadata": {},
   "outputs": [],
   "source": []
  },
  {
   "cell_type": "code",
   "execution_count": 12,
   "id": "3c2ec30c",
   "metadata": {},
   "outputs": [
    {
     "data": {
      "text/plain": [
       "read_mat_file (generic function with 1 method)"
      ]
     },
     "execution_count": 12,
     "metadata": {},
     "output_type": "execute_result"
    }
   ],
   "source": [
    "# Define a function to read a single MATLAB file\n",
    "function read_mat_file(filename)\n",
    "    mat = matread(filename)\n",
    "    # do something with the contents of the MATLAB file\n",
    "    return mat\n",
    "end"
   ]
  },
  {
   "cell_type": "code",
   "execution_count": 13,
   "id": "ebf804ce",
   "metadata": {},
   "outputs": [
    {
     "data": {
      "text/plain": [
       "read_mat_files (generic function with 1 method)"
      ]
     },
     "execution_count": 13,
     "metadata": {},
     "output_type": "execute_result"
    }
   ],
   "source": [
    "function read_mat_files(filenames)\n",
    "    data = []\n",
    "    for filename in filenames\n",
    "        push!(data, read_mat_file(filename))\n",
    "    end\n",
    "    return data\n",
    "end"
   ]
  },
  {
   "cell_type": "code",
   "execution_count": 14,
   "id": "baeac97c",
   "metadata": {},
   "outputs": [
    {
     "data": {
      "text/plain": [
       "1052-element Vector{String}:\n",
       " \"/Users/byronpetselis/Desktop/Cancer_Data/ben/Q10_I390_lesion_masked.mat\"\n",
       " \"/Users/byronpetselis/Desktop/Cancer_Data/ben/Q10_I390_normal_masked.mat\"\n",
       " \"/Users/byronpetselis/Desktop/Cancer_Data/ben/Q10_I452_lesion_masked.mat\"\n",
       " \"/Users/byronpetselis/Desktop/Cancer_Data/ben/Q10_I452_normal_masked.mat\"\n",
       " \"/Users/byronpetselis/Desktop/Cancer_Data/ben/Q10_I500_lesion_masked.mat\"\n",
       " \"/Users/byronpetselis/Desktop/Cancer_Data/ben/Q10_I500_normal_masked.mat\"\n",
       " \"/Users/byronpetselis/Desktop/Cancer_Data/ben/Q10_afast390_lesion_masked.mat\"\n",
       " \"/Users/byronpetselis/Desktop/Cancer_Data/ben/Q10_afast390_normal_masked.mat\"\n",
       " \"/Users/byronpetselis/Desktop/Cancer_Data/ben/Q10_afast452_lesion_masked.mat\"\n",
       " \"/Users/byronpetselis/Desktop/Cancer_Data/ben/Q10_afast452_normal_masked.mat\"\n",
       " \"/Users/byronpetselis/Desktop/Cancer_Data/ben/Q10_afast500_lesion_masked.mat\"\n",
       " \"/Users/byronpetselis/Desktop/Cancer_Data/ben/Q10_afast500_normal_masked.mat\"\n",
       " \"/Users/byronpetselis/Desktop/Cancer_Data/ben/Q10_aveLT390_lesion_masked.mat\"\n",
       " ⋮\n",
       " \"/Users/byronpetselis/Desktop/Cancer_Data/ben/Q9_tfast452_lesion_masked.mat\"\n",
       " \"/Users/byronpetselis/Desktop/Cancer_Data/ben/Q9_tfast452_normal_masked.mat\"\n",
       " \"/Users/byronpetselis/Desktop/Cancer_Data/ben/Q9_tfast500_lesion_masked.mat\"\n",
       " \"/Users/byronpetselis/Desktop/Cancer_Data/ben/Q9_tfast500_normal_masked.mat\"\n",
       " \"/Users/byronpetselis/Desktop/Cancer_Data/ben/Q9_tslow390_lesion_masked.mat\"\n",
       " \"/Users/byronpetselis/Desktop/Cancer_Data/ben/Q9_tslow390_normal_masked.mat\"\n",
       " \"/Users/byronpetselis/Desktop/Cancer_Data/ben/Q9_tslow452_lesion_masked.mat\"\n",
       " \"/Users/byronpetselis/Desktop/Cancer_Data/ben/Q9_tslow452_normal_masked.mat\"\n",
       " \"/Users/byronpetselis/Desktop/Cancer_Data/ben/Q9_tslow500_lesion_masked.mat\"\n",
       " \"/Users/byronpetselis/Desktop/Cancer_Data/ben/Q9_tslow500_normal_masked.mat\"\n",
       " \"/Users/byronpetselis/Desktop/Cancer_Data/ben/qben_norm_mean.mat\"\n",
       " \"/Users/byronpetselis/Desktop/Cancer_Data/ben/qben_norm_std.mat\""
      ]
     },
     "execution_count": 14,
     "metadata": {},
     "output_type": "execute_result"
    }
   ],
   "source": [
    "filenames = readdir(\"/Users/byronpetselis/Desktop/Cancer_Data/ben\", join=true, sort=false)\n",
    "# read all the files in this directory"
   ]
  },
  {
   "cell_type": "code",
   "execution_count": 24,
   "id": "e2b33bbc",
   "metadata": {},
   "outputs": [
    {
     "name": "stdout",
     "output_type": "stream",
     "text": [
      "Dict{Any, Any}\n",
      "Matrix{Float64}\n",
      "Float64\n"
     ]
    }
   ],
   "source": [
    "#Benign features\n",
    "Benign_data_labels = [\"Q1\",\"Q2\",\"Q4\",\"Q5\",\"Q6\",\"Q7\",\"Q9\",\"Q10\",\"Q11\",\"Q13\",\"Q14\",\"Q16\",\"Q20\",\"Q21\", \"Q27\",\"Q34\",\"Q35\",\"Q37\",\"Q38\",\"Q40\",\"Q42\",\"Q43\",\"Q46\",\"Q49\",\"Q50\", \"Q52\",\"Q54\",\"Q56\",\"Q59\",\"Q62\",\"Q63\",\"Q65\",\"Q66\",\"Q67\",\"Q69\"]\n",
    "# lesion_feature_labels = \n",
    "\n",
    "Benign_dict = Dict()\n",
    "Normal_dict = Dict()\n",
    "for i in Benign_data_labels\n",
    "    data_lesion = read_mat_files(glob(\"$i\"*\"_afast390_lesion*\",\"/Users/byronpetselis/Desktop/Cancer_Data/ben\"))\n",
    "    data_normal = read_mat_files(glob(\"$i\"*\"_afast390_normal*\",\"/Users/byronpetselis/Desktop/Cancer_Data/ben\"))\n",
    "    push!(Benign_dict,\"$i\"=>values(data_lesion[1][\"afast390m\"]))\n",
    "    push!(Normal_dict,\"$i\"=>values(data_normal[1][\"afast390nm\"]))\n",
    "end\n",
    "\n",
    "println(typeof(Benign_dict))\n",
    "println(typeof(Benign_dict[\"Q1\"]))\n",
    "println(typeof(Benign_dict[\"Q1\"][1]))\n",
    "\n",
    "data_lesion = Dict()\n",
    "data_normal = Dict()\n",
    "\n",
    "for i in Benign_data_labels\n",
    "    push!(data_lesion, \"$i\" => collect(values(Benign_dict[\"$i\"])))\n",
    "    push!(data_normal, \"$i\" => collect(values(Normal_dict[\"$i\"])))\n",
    "end"
   ]
  },
  {
   "cell_type": "code",
   "execution_count": null,
   "id": "eaee585e",
   "metadata": {},
   "outputs": [],
   "source": []
  },
  {
   "cell_type": "code",
   "execution_count": 25,
   "id": "ec2a6c25",
   "metadata": {},
   "outputs": [
    {
     "ename": "LoadError",
     "evalue": "ArgumentError: adding AbstractArray other than AbstractVector as a column of a data frame is not allowed",
     "output_type": "error",
     "traceback": [
      "ArgumentError: adding AbstractArray other than AbstractVector as a column of a data frame is not allowed",
      "",
      "Stacktrace:",
      " [1] _preprocess_column(col::Matrix{Float64}, len::Int64, copycols::Bool)",
      "   @ DataFrames ~/.julia/packages/DataFrames/LteEl/src/dataframe/dataframe.jl:242",
      " [2] DataFrame(columns::Vector{Any}, colindex::DataFrames.Index; copycols::Bool)",
      "   @ DataFrames ~/.julia/packages/DataFrames/LteEl/src/dataframe/dataframe.jl:221",
      " [3] DataFrame(d::Dict{Any, Any}; copycols::Bool)",
      "   @ DataFrames ~/.julia/packages/DataFrames/LteEl/src/dataframe/dataframe.jl:294",
      " [4] DataFrame(d::Dict{Any, Any})",
      "   @ DataFrames ~/.julia/packages/DataFrames/LteEl/src/dataframe/dataframe.jl:283",
      " [5] top-level scope",
      "   @ In[25]:1"
     ]
    }
   ],
   "source": [
    "df_normal = DataFrame(data_normal)\n",
    "df_lesion = DataFrame(data_lesion)\n",
    "# Training testing seperation (Testing 1 Feature: I390)\n",
    "\n",
    "println(df_normal)\n",
    "\n",
    "normal_test = []\n",
    "normal_train = []\n",
    "\n",
    "benign_test = []\n",
    "benign_train = []\n",
    "\n",
    "for key in [\"Q10\", \"Q20\", \"Q35\", \"Q43\", \"Q50\", \"Q56\", \"Q69\"]\n",
    "    data = pop!(data_normal, key)\n",
    "    push!(normal_test, data')\n",
    "end\n",
    "\n",
    "for (key,value) in data_normal\n",
    "    data = pop!(data_normal, key)\n",
    "    push!(normal_train, data')\n",
    "end\n",
    "\n",
    "for key in [\"Q10\", \"Q20\", \"Q35\", \"Q43\", \"Q50\", \"Q56\", \"Q69\"]\n",
    "    data = pop!(data_lesion, key)\n",
    "    push!(benign_test, data')\n",
    "end\n",
    "\n",
    "for (key,value) in data_lesion\n",
    "    data = pop!(data_lesion, key)\n",
    "    push!(benign_train, data')\n",
    "end\n",
    "\n",
    "# normal_train, normal_test = splitobs(df_normal, at = 0.8)\n",
    "# benign_train, benign_test = splitobs(shuffleobs(df_lesion), at = 0.8)"
   ]
  },
  {
   "cell_type": "code",
   "execution_count": 7,
   "id": "dd465cfc",
   "metadata": {},
   "outputs": [
    {
     "ename": "LoadError",
     "evalue": "UndefVarError: normal_test not defined",
     "output_type": "error",
     "traceback": [
      "UndefVarError: normal_test not defined",
      ""
     ]
    }
   ],
   "source": [
    "normal_test"
   ]
  },
  {
   "cell_type": "code",
   "execution_count": 8,
   "id": "c0f13993",
   "metadata": {},
   "outputs": [
    {
     "ename": "LoadError",
     "evalue": "UndefVarError: normal_train not defined",
     "output_type": "error",
     "traceback": [
      "UndefVarError: normal_train not defined",
      "",
      "Stacktrace:",
      " [1] top-level scope",
      "   @ In[8]:1"
     ]
    }
   ],
   "source": [
    "X    = hcat(normal_train, benign_train)\n",
    "println(sizeof(normal_train))\n",
    "println(sizeof(benign_train))\n",
    "println(typeof(normal_train))\n",
    "println(typeof(normal_train))\n",
    "println(normal_test)\n",
    "# Y    = vcat(ones(size(benign_train,1)),zeros(size(normal_train,1)))"
   ]
  },
  {
   "cell_type": "code",
   "execution_count": 9,
   "id": "94eae66d",
   "metadata": {},
   "outputs": [
    {
     "ename": "LoadError",
     "evalue": "UndefVarError: RBF not defined",
     "output_type": "error",
     "traceback": [
      "UndefVarError: RBF not defined",
      "",
      "Stacktrace:",
      " [1] top-level scope",
      "   @ In[9]:1"
     ]
    }
   ],
   "source": [
    "svm_model = svmtrain(X, Y, kernel_type=RBF(gamma=0.1))"
   ]
  },
  {
   "cell_type": "code",
   "execution_count": null,
   "id": "90f8f1bb",
   "metadata": {},
   "outputs": [],
   "source": []
  },
  {
   "cell_type": "code",
   "execution_count": null,
   "id": "f3bebe73",
   "metadata": {},
   "outputs": [],
   "source": []
  },
  {
   "cell_type": "code",
   "execution_count": null,
   "id": "3ab81e4d",
   "metadata": {},
   "outputs": [],
   "source": []
  }
 ],
 "metadata": {
  "kernelspec": {
   "display_name": "Julia 1.8.5",
   "language": "julia",
   "name": "julia-1.8"
  },
  "language_info": {
   "file_extension": ".jl",
   "mimetype": "application/julia",
   "name": "julia",
   "version": "1.8.5"
  }
 },
 "nbformat": 4,
 "nbformat_minor": 5
}
